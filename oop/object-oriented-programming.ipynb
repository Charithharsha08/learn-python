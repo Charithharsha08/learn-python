{
 "cells": [
  {
   "cell_type": "code",
   "execution_count": 1,
   "id": "84c0b1b7",
   "metadata": {},
   "outputs": [],
   "source": [
    "class Stdent:\n",
    "    name = \"\"\n",
    "    age = 0"
   ]
  },
  {
   "cell_type": "code",
   "execution_count": 4,
   "id": "dcfba4b4",
   "metadata": {},
   "outputs": [
    {
     "name": "stdout",
     "output_type": "stream",
     "text": [
      "0\n"
     ]
    }
   ],
   "source": [
    "class Stdent:\n",
    "    name = \"\"\n",
    "    age = 0\n",
    "\n",
    "student_1 = Stdent()\n",
    "print(student_1.age)\n"
   ]
  },
  {
   "cell_type": "code",
   "execution_count": 1,
   "id": "51b41770",
   "metadata": {},
   "outputs": [
    {
     "name": "stdout",
     "output_type": "stream",
     "text": [
      "this car drive tocolombo by 4 wheels\n"
     ]
    }
   ],
   "source": [
    "class Car:\n",
    "    wheel = 4\n",
    "\n",
    "\n",
    "    def display_info(self):\n",
    "        print(self.wheel)\n",
    "\n",
    "    def drive_to (self,destination):\n",
    "        print (f\"this car drive to{destination} by {self.wheel} wheels\")\n",
    "\n",
    "\n",
    "car_1 = Car()\n",
    "car_1.drive_to(\"colombo\")"
   ]
  },
  {
   "cell_type": "code",
   "execution_count": null,
   "id": "f3f9338f",
   "metadata": {},
   "outputs": [
    {
     "name": "stdout",
     "output_type": "stream",
     "text": [
      "constructor has been called\n",
      "this red color toyota drive tocolombo by 4 wheels\n",
      "this red color toyota has 4 wheels\n"
     ]
    }
   ],
   "source": [
    "class Car:\n",
    "    wheel = 4\n",
    "\n",
    "    def __init__(self, brand , color):\n",
    "        print(\"constructor has been called\")\n",
    "        self.brand = brand\n",
    "        self.color = color\n",
    "    \n",
    "    def display_info(self):\n",
    "        print(f\"this {self.color} color {self.brand} run in {self.wheel} wheels\")\n",
    "\n",
    "    def drive_to (self,destination):\n",
    "        print (f\"this {self.color} color {self.brand} drive to{destination} by {self.wheel} wheels\")\n",
    "\n",
    "\n",
    "\n",
    "\n",
    "car_1 = Car(\"toyota\",\"red\")\n",
    "car_1.drive_to(\"colombo\")\n",
    "car_1.display_info()"
   ]
  },
  {
   "cell_type": "code",
   "execution_count": null,
   "id": "3b253e92",
   "metadata": {},
   "outputs": [
    {
     "name": "stdout",
     "output_type": "stream",
     "text": [
      "The area is 50 and the perimeter is 30\n"
     ]
    }
   ],
   "source": [
    "# you are ask to define a python class name, Rectangle that models a rectangle using oop principle the class should be initilised with length and width. \n",
    "# it must include a method area that returns the area of the rectangle. and another method get_perimeter that returns the perimeter of the rectangle. \n",
    "# addtionally impliment and instant method name discribe that calles both area and get_perimeter methods. and print a message in the format \"The area is {area} and the perimeter is {perimeter}\"\n",
    "# create and object on the class with length 10 and width 5 and call the discribe method to show the exepted output\n",
    "\n",
    "class Rectangle:\n",
    "   \n",
    "   def __init__(self,length,width):\n",
    "      self.length = length\n",
    "      self.width = width\n",
    "\n",
    "   def area(self):\n",
    "        return self.length * self.width\n",
    "   \n",
    "   def get_peremeter(self):\n",
    "        return 2 * (self.length + self.width)\n",
    "    \n",
    "   def describe(self):\n",
    "        # Instance method can call in other instance methods\n",
    "        print(f\"The area is {self.area()} and the perimeter is {self.get_peremeter()}\")\n",
    "\n",
    "rectangle_1 = Rectangle(10,5)\n",
    "rectangle_1.describe()\n"
   ]
  }
 ],
 "metadata": {
  "kernelspec": {
   "display_name": "Python 3",
   "language": "python",
   "name": "python3"
  },
  "language_info": {
   "codemirror_mode": {
    "name": "ipython",
    "version": 3
   },
   "file_extension": ".py",
   "mimetype": "text/x-python",
   "name": "python",
   "nbconvert_exporter": "python",
   "pygments_lexer": "ipython3",
   "version": "3.13.3"
  }
 },
 "nbformat": 4,
 "nbformat_minor": 5
}
