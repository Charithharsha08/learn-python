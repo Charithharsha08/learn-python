{
 "cells": [
  {
   "cell_type": "code",
   "execution_count": 1,
   "id": "84c0b1b7",
   "metadata": {},
   "outputs": [],
   "source": [
    "class Stdent:\n",
    "    name = \"\"\n",
    "    age = 0"
   ]
  },
  {
   "cell_type": "code",
   "execution_count": 4,
   "id": "dcfba4b4",
   "metadata": {},
   "outputs": [
    {
     "name": "stdout",
     "output_type": "stream",
     "text": [
      "0\n"
     ]
    }
   ],
   "source": [
    "class Stdent:\n",
    "    name = \"\"\n",
    "    age = 0\n",
    "\n",
    "student_1 = Stdent()\n",
    "print(student_1.age)\n"
   ]
  },
  {
   "cell_type": "code",
   "execution_count": 1,
   "id": "51b41770",
   "metadata": {},
   "outputs": [
    {
     "name": "stdout",
     "output_type": "stream",
     "text": [
      "this car drive tocolombo by 4 wheels\n"
     ]
    }
   ],
   "source": [
    "class Car:\n",
    "    wheel = 4\n",
    "\n",
    "\n",
    "    def display_info(self):\n",
    "        print(self.wheel)\n",
    "\n",
    "    def drive_to (self,destination):\n",
    "        print (f\"this car drive to{destination} by {self.wheel} wheels\")\n",
    "\n",
    "\n",
    "car_1 = Car()\n",
    "car_1.drive_to(\"colombo\")"
   ]
  },
  {
   "cell_type": "code",
   "execution_count": null,
   "id": "f3f9338f",
   "metadata": {},
   "outputs": [
    {
     "name": "stdout",
     "output_type": "stream",
     "text": [
      "constructor has been called\n",
      "this red color toyota drive tocolombo by 4 wheels\n",
      "this red color toyota has 4 wheels\n"
     ]
    }
   ],
   "source": [
    "class Car:\n",
    "    wheel = 4\n",
    "\n",
    "    def __init__(self, brand , color):\n",
    "        print(\"constructor has been called\")\n",
    "        self.brand = brand\n",
    "        self.color = color\n",
    "    \n",
    "    def display_info(self):\n",
    "        print(f\"this {self.color} color {self.brand} run in {self.wheel} wheels\")\n",
    "\n",
    "    def drive_to (self,destination):\n",
    "        print (f\"this {self.color} color {self.brand} drive to{destination} by {self.wheel} wheels\")\n",
    "\n",
    "\n",
    "\n",
    "\n",
    "car_1 = Car(\"toyota\",\"red\")\n",
    "car_1.drive_to(\"colombo\")\n",
    "car_1.display_info()"
   ]
  },
  {
   "cell_type": "code",
   "execution_count": null,
   "id": "3b253e92",
   "metadata": {},
   "outputs": [
    {
     "name": "stdout",
     "output_type": "stream",
     "text": [
      "The area is 50 and the perimeter is 30\n"
     ]
    }
   ],
   "source": [
    "# you are ask to define a python class name, Rectangle that models a rectangle using oop principle the class should be initilised with length and width. \n",
    "# it must include a method area that returns the area of the rectangle. and another method get_perimeter that returns the perimeter of the rectangle. \n",
    "# addtionally impliment and instant method name discribe that calles both area and get_perimeter methods. and print a message in the format \"The area is {area} and the perimeter is {perimeter}\"\n",
    "# create and object on the class with length 10 and width 5 and call the discribe method to show the exepted output\n",
    "\n",
    "class Rectangle:\n",
    "   \n",
    "   def __init__(self,length,width):\n",
    "      self.length = length\n",
    "      self.width = width\n",
    "\n",
    "   def area(self):\n",
    "        return self.length * self.width\n",
    "   \n",
    "   def get_peremeter(self):\n",
    "        return 2 * (self.length + self.width)\n",
    "    \n",
    "   def describe(self):\n",
    "        # Instance method can call in other instance methods\n",
    "        print(f\"The area is {self.area()} and the perimeter is {self.get_peremeter()}\")\n",
    "\n",
    "rectangle_1 = Rectangle(10,5)\n",
    "rectangle_1.describe()\n"
   ]
  },
  {
   "cell_type": "code",
   "execution_count": 2,
   "id": "830f0233",
   "metadata": {},
   "outputs": [
    {
     "name": "stdout",
     "output_type": "stream",
     "text": [
      "animal speaking\n"
     ]
    }
   ],
   "source": [
    "# inheritance\n",
    "\n",
    "class Aminal :\n",
    "    def speak(self):\n",
    "        print(\"animal speaking\")\n",
    "\n",
    "class Parrrot(Aminal):\n",
    "    def display_info(self):\n",
    "        print(\" smoothing\")\n",
    "\n",
    "parrot = Parrrot()\n",
    "parrot.speak()"
   ]
  },
  {
   "cell_type": "code",
   "execution_count": 4,
   "id": "65b834c9",
   "metadata": {},
   "outputs": [
    {
     "name": "stdout",
     "output_type": "stream",
     "text": [
      "smoothing\n"
     ]
    }
   ],
   "source": [
    "# method overriding\n",
    "\n",
    "class Aminal :\n",
    "    def speak(self):\n",
    "        print(\"animal speaking\")\n",
    "\n",
    "class Parrrot(Aminal):\n",
    "    def speak(self):\n",
    "        print(\"smoothing\")\n",
    "\n",
    "parrot = Parrrot()\n",
    "parrot.speak()"
   ]
  },
  {
   "cell_type": "code",
   "execution_count": null,
   "id": "02d1102f",
   "metadata": {},
   "outputs": [
    {
     "name": "stdout",
     "output_type": "stream",
     "text": [
      "smoothing in english\n"
     ]
    }
   ],
   "source": [
    "# method overloading\n",
    "\n",
    "class Aminal :\n",
    "    def speak(self):\n",
    "        print(\"animal speaking\")\n",
    "\n",
    "class Parrrot(Aminal):\n",
    "    def speak(self,language): # same method name but different arguments\n",
    "        print(f\"smoothing in {language}\") \n",
    "\n",
    "parrot = Parrrot()\n",
    "parrot.speak(\"english\")"
   ]
  },
  {
   "cell_type": "code",
   "execution_count": null,
   "id": "86701964",
   "metadata": {},
   "outputs": [
    {
     "name": "stdout",
     "output_type": "stream",
     "text": [
      "parrot speaking\n"
     ]
    }
   ],
   "source": [
    "class Aminal:\n",
    "    def __init__(self,name):\n",
    "        self.name = name\n",
    "\n",
    "class Parrrot(Aminal):\n",
    "    def speak(self):\n",
    "        print(\"parrot speaking\")\n",
    "        \n",
    "parrot = Parrrot(\"parrot\")\n",
    "parrot.speak()"
   ]
  },
  {
   "cell_type": "code",
   "execution_count": 16,
   "id": "dca86808",
   "metadata": {},
   "outputs": [
    {
     "name": "stdout",
     "output_type": "stream",
     "text": [
      "parrot\n",
      "red\n"
     ]
    }
   ],
   "source": [
    "class Aminal:\n",
    "    def __init__(self,name):\n",
    "        self.name = name\n",
    "\n",
    "class Parrrot(Aminal):\n",
    "    def __init__(self,name,color):\n",
    "        super().__init__(name)\n",
    "        self.color = color\n",
    "\n",
    "parrot = Parrrot(\"parrot\",\"red\")\n",
    "print(parrot.name)\n",
    "print(parrot.color)"
   ]
  },
  {
   "cell_type": "markdown",
   "id": "9ae767fa",
   "metadata": {},
   "source": [
    "Q. define a base class called employee that has attributes name and salary. it should have a method call display_info that prints the name and salary of the employee,\n",
    "then create a derived class called manager that inherits from Employee and add extra attribute department override the display_info method in the manager class to include the department information as well \n",
    "\n",
    "finally write a pytho programme to \n",
    "\n",
    "   1. create and object of the manager class\n",
    "   2. call the display_info method using the object"
   ]
  },
  {
   "cell_type": "code",
   "execution_count": 25,
   "id": "4e40cbef",
   "metadata": {},
   "outputs": [
    {
     "name": "stdout",
     "output_type": "stream",
     "text": [
      "Name: John, Salary: 50000, Department: IT\n"
     ]
    }
   ],
   "source": [
    "class Employee:\n",
    "    def __init__(self,name,salary):\n",
    "        self.name = name\n",
    "        self.salary = salary\n",
    "\n",
    "    def display_info(self):\n",
    "        print(f\"Name: {self.name}, \",end=\"\")\n",
    "        print(f\"Salary: {self.salary}, \",end=\"\")\n",
    "\n",
    "class Manager(Employee):\n",
    "    def __init__(self, name, salary, department):\n",
    "        self.department = department\n",
    "        super().__init__(name, salary)\n",
    "\n",
    "    def display_info(self):\n",
    "        super().display_info()\n",
    "        print(f\"Department: {self.department}\")\n",
    "\n",
    "manager = Manager(\"John\", 50000, \"IT\")\n",
    "manager.display_info()\n"
   ]
  },
  {
   "cell_type": "code",
   "execution_count": null,
   "id": "9f1e721b",
   "metadata": {},
   "outputs": [
    {
     "name": "stdout",
     "output_type": "stream",
     "text": [
      "John\n",
      "John\n"
     ]
    }
   ],
   "source": [
    "# encapsulation\n",
    "\n",
    "class Person:\n",
    "    def __init__(self):\n",
    "        self._name = \"John\" # Protected attribute\n",
    "\n",
    "class Employee(Person):\n",
    "    def display(self):\n",
    "        print(self._name) # Accessing the protected attribute\n",
    "\n",
    "employee = Employee()\n",
    "employee.display()\n",
    "print(employee._name) # Accessing the protected attribute through the child class\n",
    "\n"
   ]
  },
  {
   "cell_type": "code",
   "execution_count": null,
   "id": "96850abf",
   "metadata": {},
   "outputs": [
    {
     "name": "stdout",
     "output_type": "stream",
     "text": [
      "John\n",
      "John\n"
     ]
    }
   ],
   "source": [
    "class Person:\n",
    "    def __init__(self):\n",
    "        self.__name = \"John\" # Private attribute\n",
    "\n",
    "    def get_name(self):\n",
    "        return self.__name\n",
    "\n",
    "class Employee(Person):\n",
    "    def display(self):\n",
    "        print(self.get_name()) # Accessing the private attribute\n",
    "\n",
    "employee = Employee()\n",
    "employee.display()\n",
    "#print(employee._Person__name) Accessing the private attribute through the child class\n",
    "\n",
    "person = Person()\n",
    "print(person.get_name()) # Accessing the private attribute through the parent class"
   ]
  },
  {
   "cell_type": "markdown",
   "id": "2febae0d",
   "metadata": {},
   "source": [
    "define a class name bank account this modules the basic bank account using the concept of encapusulation \n",
    "\n",
    "    your class should,\n",
    "\n",
    "    1. use private attribute for the account number, owner name and balance(blance should float at 0 by default)\n",
    "\n",
    "    2. provide a constructer that accept only acc_num and owner_name the  balance should start at 0.0 inside the constructer\n",
    "\n",
    "    3. provide the following public methods\n",
    "        display account - print the owners name and current balace but not the account number\n",
    "        deposit(amount) - add money to the account only if the amount is valid \n",
    "        withdrow(amount) - diduct money only if their is enough balance in the account\n",
    "        get_balance() - return the current balance\n",
    "\n",
    "    4. impliment the private method validate_amount(amount) that return true if the amount is a positive number else return false\n",
    "            is yoused internally by both deposit() and withdrow() methods to validate the input\n",
    "\n"
   ]
  },
  {
   "cell_type": "code",
   "execution_count": 45,
   "id": "797de208",
   "metadata": {},
   "outputs": [
    {
     "name": "stdout",
     "output_type": "stream",
     "text": [
      "Name: charith\n",
      "Balance: 1300\n"
     ]
    }
   ],
   "source": [
    "class Accoount:\n",
    "    def __init__(self , name , account_number ):\n",
    "        self.__account_number = account_number\n",
    "        self.__name = name\n",
    "        self.__balance = 0.0\n",
    "\n",
    "    def __validate_amount(self,amount):\n",
    "        if(amount < 0):\n",
    "            print(\"Invalid amount\")\n",
    "            return False\n",
    "        return True\n",
    "\n",
    "    def set_balance(self,balance):\n",
    "        if not self.__validate_amount(balance):\n",
    "            return\n",
    "        self.__balance = balance\n",
    "\n",
    "    def display_account(self):\n",
    "        print(f\"Name: {self.__name}\")\n",
    "        print(f\"Balance: {self.__balance}\")\n",
    "\n",
    "    def deposit(self,amount):\n",
    "        if not self.__validate_amount(amount):\n",
    "            return\n",
    "        self.__balance += amount\n",
    "\n",
    "    def withdraw(self,amount):\n",
    "        if not self.__validate_amount(amount):\n",
    "            return\n",
    "        if amount > self.__balance:\n",
    "            print(\"Insufficient balance\")\n",
    "        else:\n",
    "            self.__balance -= amount\n",
    "\n",
    "\n",
    "account = Accoount(\"charith\", \"123456789\")\n",
    "account.set_balance(1000)\n",
    "account.deposit(500)\n",
    "account.withdraw(200)\n",
    "account.display_account()\n",
    "\n",
    "\n",
    "\n",
    "\n"
   ]
  }
 ],
 "metadata": {
  "kernelspec": {
   "display_name": "Python 3",
   "language": "python",
   "name": "python3"
  },
  "language_info": {
   "codemirror_mode": {
    "name": "ipython",
    "version": 3
   },
   "file_extension": ".py",
   "mimetype": "text/x-python",
   "name": "python",
   "nbconvert_exporter": "python",
   "pygments_lexer": "ipython3",
   "version": "3.13.3"
  }
 },
 "nbformat": 4,
 "nbformat_minor": 5
}
