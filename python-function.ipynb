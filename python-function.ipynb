{
 "cells": [
  {
   "cell_type": "code",
   "execution_count": 1,
   "id": "36d32e37",
   "metadata": {},
   "outputs": [
    {
     "name": "stdout",
     "output_type": "stream",
     "text": [
      "17\n"
     ]
    }
   ],
   "source": [
    "def add_numbers(a,b):\n",
    "    return a+b\n",
    "\n",
    "print(add_numbers(8,9))"
   ]
  },
  {
   "cell_type": "code",
   "execution_count": 4,
   "id": "2232e47d",
   "metadata": {},
   "outputs": [
    {
     "name": "stdout",
     "output_type": "stream",
     "text": [
      "4\n"
     ]
    }
   ],
   "source": [
    "def count_even_number(lst):\n",
    "    \n",
    "    count = 0\n",
    "\n",
    "    for i in lst:\n",
    "        if i % 2 == 0:\n",
    "            count += 1\n",
    "    \n",
    "    return count\n",
    "\n",
    "lst = [1,2,3,4,5,6,7,8,9]\n",
    "print(count_even_number(lst))"
   ]
  },
  {
   "cell_type": "code",
   "execution_count": null,
   "id": "bc5ca024",
   "metadata": {},
   "outputs": [
    {
     "name": "stdout",
     "output_type": "stream",
     "text": [
      "10\n"
     ]
    }
   ],
   "source": [
    "# write a fuction find max that s take a list of numbers and returns the maximum value (without using the builtin max funtion)\n",
    "\n",
    "def get_max_number(lst):\n",
    "    max_num = lst[0]\n",
    "    for i in lst:\n",
    "      if i > max_num:\n",
    "        max_num = i\n",
    "    return max_num\n",
    "xx\n",
    "\n",
    "lst = [10,2,3,4,5,6,7,8,9,10,2]\n",
    "print(get_max_number(lst))"
   ]
  },
  {
   "cell_type": "code",
   "execution_count": 30,
   "id": "d86e195f",
   "metadata": {},
   "outputs": [
    {
     "name": "stdout",
     "output_type": "stream",
     "text": [
      "[10, 2, 3, 4, 5, 6, 7, 8, 9]\n"
     ]
    }
   ],
   "source": [
    "# write a funtion name remove duplicates that return a list with duplicate removed (recerving the original order)\n",
    "\n",
    "def remove_duplicates(lst):\n",
    "    temp = []\n",
    "\n",
    "    for item in lst:\n",
    "        if item not in temp:\n",
    "            temp.append(item)\n",
    "    \n",
    "\n",
    "    return temp\n",
    "    \n",
    "lst = [10,2,3,4,5,6,7,8,9,10,2]\n",
    "print(remove_duplicates(lst))\n"
   ]
  },
  {
   "cell_type": "code",
   "execution_count": 38,
   "id": "929299ca",
   "metadata": {},
   "outputs": [
    {
     "name": "stdout",
     "output_type": "stream",
     "text": [
      "24\n"
     ]
    }
   ],
   "source": [
    "# write a function factorial(n) that return the functorial of given a number\n",
    "\n",
    "def factorial_count(n):\n",
    "    factorial = 1\n",
    "\n",
    "    x = range(1,n+1)\n",
    "\n",
    "    if (n == 0):\n",
    "        factorial = 1\n",
    "\n",
    "    for i in x:\n",
    "        factorial *= i\n",
    "\n",
    "    return factorial\n",
    "\n",
    "\n",
    "print(factorial_count(4))"
   ]
  }
 ],
 "metadata": {
  "kernelspec": {
   "display_name": "Python 3",
   "language": "python",
   "name": "python3"
  },
  "language_info": {
   "codemirror_mode": {
    "name": "ipython",
    "version": 3
   },
   "file_extension": ".py",
   "mimetype": "text/x-python",
   "name": "python",
   "nbconvert_exporter": "python",
   "pygments_lexer": "ipython3",
   "version": "3.13.3"
  }
 },
 "nbformat": 4,
 "nbformat_minor": 5
}
