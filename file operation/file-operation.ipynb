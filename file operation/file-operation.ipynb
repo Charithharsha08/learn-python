{
 "cells": [
  {
   "cell_type": "code",
   "execution_count": null,
   "id": "f4f76dad",
   "metadata": {},
   "outputs": [
    {
     "name": "stdout",
     "output_type": "stream",
     "text": [
      "Hi Guys! Hope everthing is good. I'm fine too.\n",
      "This is much better.\n",
      "This is even better.\n",
      "I love AI.\n"
     ]
    }
   ],
   "source": [
    "# read a file \n",
    "\n",
    "file = open(\"my_file.txt\" , \"r\") # open a file\n",
    "\n",
    "read_file = file.read()\n",
    "\n",
    "print(read_file) # read the file\n",
    "\n",
    "file.close() # close the file\n",
    "\n"
   ]
  },
  {
   "cell_type": "code",
   "execution_count": null,
   "id": "9c084a17",
   "metadata": {},
   "outputs": [
    {
     "name": "stdout",
     "output_type": "stream",
     "text": [
      "Hi Guys! Hope everything is good. I'm fine too.\n",
      "\n",
      "This is much better.\n",
      "\n"
     ]
    }
   ],
   "source": [
    "# read a file line by line\n",
    "\n",
    "file = open(\"my_file.txt\" , \"r\") # open a file\n",
    "\n",
    "read_line_1 = file.readline() # read a 1 line\n",
    "read_line_2 = file.readline() # read a 2 line\n",
    "\n",
    "\n",
    "print(read_line_1)\n",
    "print(read_line_2)\n",
    "\n",
    "file.close() # close the file"
   ]
  },
  {
   "cell_type": "code",
   "execution_count": 5,
   "id": "a3ac30e0",
   "metadata": {},
   "outputs": [
    {
     "name": "stdout",
     "output_type": "stream",
     "text": [
      "Hi Guys! Hope everything is good. I'm fine too.\n",
      "This is much better.\n",
      "This is even better.\n",
      "I love AI.\n"
     ]
    }
   ],
   "source": [
    "file_1 = open(\"my_file.txt\" , \"r\") # open a file\n",
    "\n",
    "while True:\n",
    "    line = file_1.readline()\n",
    "    if not line:\n",
    "        break\n",
    "    print(line.strip()) # strip the line (remove the \\n)\n",
    "\n",
    "file.close() # close the file"
   ]
  },
  {
   "cell_type": "code",
   "execution_count": 8,
   "id": "67ab5351",
   "metadata": {},
   "outputs": [
    {
     "name": "stdout",
     "output_type": "stream",
     "text": [
      "[\"Hi Guys! Hope everything is good. I'm fine too.\\n\", 'This is much better.\\n', 'This is even better.\\n', 'I love AI.']\n"
     ]
    }
   ],
   "source": [
    "file_1 = open(\"my_file.txt\" , \"r\") # open a file\n",
    "\n",
    "read_lines = file_1.readlines()\n",
    "\n",
    "print(read_lines)\n",
    "\n",
    "file.close() # close the file"
   ]
  },
  {
   "cell_type": "code",
   "execution_count": 6,
   "id": "06a6df3a",
   "metadata": {},
   "outputs": [
    {
     "name": "stdout",
     "output_type": "stream",
     "text": [
      "Hi Guys! Hope everything is good. I'm fine too.\n",
      "This is much better.\n",
      "This is even better.\n",
      "I love AI.\n"
     ]
    }
   ],
   "source": [
    "file_1 = open(\"my_file.txt\" , \"r\") # open a file\n",
    "\n",
    "lines = file_1.readlines() # read all the lines\n",
    "\n",
    "for line in lines:\n",
    "    print(line.strip())\n",
    "\n",
    "file.close() # close the file"
   ]
  },
  {
   "cell_type": "code",
   "execution_count": 13,
   "id": "d1a40476",
   "metadata": {},
   "outputs": [],
   "source": [
    "with open(\"my_file_1.txt\" , \"w\") as file_1:\n",
    "    file_1.write(\"this is awesome\\n\")\n",
    "    file_1.write(\"programming is fun\\n\")"
   ]
  },
  {
   "cell_type": "code",
   "execution_count": null,
   "id": "dbe1bf99",
   "metadata": {},
   "outputs": [],
   "source": [
    "with open(\"my_file_2.txt\",\"w\") as file_2:\n",
    "    lines = [\"this is new\\n\",\"writelines method \\n\"] # write multiple lines in a file \n",
    "    file_2.writelines(lines)\n",
    "\n",
    "with open(\"my_file_2.txt\",\"a\") as file_2: # append a file\n",
    "    file_2.write(\"this is new\\n\")\n",
    "    file_2.write(\"append method \\n\")    "
   ]
  },
  {
   "cell_type": "code",
   "execution_count": null,
   "id": "fc1fe167",
   "metadata": {},
   "outputs": [
    {
     "name": "stdout",
     "output_type": "stream",
     "text": [
      "{'name': 'John Doe', 'age': 30, 'isStudent': False, 'hobbies': ['reading', 'gardening', 'swimming']}\n",
      "<class 'dict'>\n"
     ]
    }
   ],
   "source": [
    "import json\n",
    "\n",
    "with open(\"test.json\",\"r\") as file_3:\n",
    "    data = json.load(file_3) # load a json file to a dictionary \n",
    "    print(data)\n",
    "    print(type(data))"
   ]
  },
  {
   "cell_type": "code",
   "execution_count": 5,
   "id": "80751214",
   "metadata": {},
   "outputs": [
    {
     "name": "stdout",
     "output_type": "stream",
     "text": [
      "json file created\n"
     ]
    }
   ],
   "source": [
    "import json\n",
    "\n",
    "data = {\n",
    "    \"name\" : \"charith\",\n",
    "    \"age\" : 20,\n",
    "    \"gender\" : \"male\"\n",
    "}\n",
    "\n",
    "with open(\"test_1.json\",\"w\") as file_3:\n",
    "    json.dump(data , file_3, indent=4) # dump a dictionary to a json file \n",
    "    print(\"json file created\")"
   ]
  },
  {
   "cell_type": "code",
   "execution_count": null,
   "id": "c28b8644",
   "metadata": {},
   "outputs": [
    {
     "name": "stdout",
     "output_type": "stream",
     "text": [
      "<class '_csv.reader'>\n",
      "['Name', 'Age', 'Occupation']\n",
      "['John Doe', '30', 'Engineer']\n",
      "['Jane Smith', '25', 'Teacher']\n",
      "['Bob Johnson', '40', 'Doctor']\n",
      "['Alice Brown', '35', 'Artist']\n"
     ]
    }
   ],
   "source": [
    "import csv\n",
    "\n",
    "with open(\"test.csv\",\"r\",newline=\"\") as file_4:\n",
    "    csv_reader = csv.reader(file_4)\n",
    "    print(type(csv_reader))\n",
    "    \n",
    "    for row in csv_reader:\n",
    "        print(row)"
   ]
  },
  {
   "cell_type": "code",
   "execution_count": null,
   "id": "689ec008",
   "metadata": {},
   "outputs": [
    {
     "name": "stdout",
     "output_type": "stream",
     "text": [
      "<class 'csv.DictReader'>\n",
      "{'Name': 'John Doe', 'Age': '30', 'Occupation': 'Engineer'}\n",
      "{'Name': 'Jane Smith', 'Age': '25', 'Occupation': 'Teacher'}\n",
      "{'Name': 'Bob Johnson', 'Age': '40', 'Occupation': 'Doctor'}\n",
      "{'Name': 'Alice Brown', 'Age': '35', 'Occupation': 'Artist'}\n"
     ]
    }
   ],
   "source": [
    "import csv\n",
    "\n",
    "with open(\"test.csv\",\"r\",newline=\"\") as file_4:\n",
    "    csv_reader = csv.DictReader(file_4)  # read a csv file to a dictionary \n",
    "    print(type(csv_reader))\n",
    "    \n",
    "    for row in csv_reader:\n",
    "        print(row)\n"
   ]
  },
  {
   "cell_type": "code",
   "execution_count": 11,
   "id": "5d59bf03",
   "metadata": {},
   "outputs": [
    {
     "name": "stdout",
     "output_type": "stream",
     "text": [
      "csv file created\n"
     ]
    }
   ],
   "source": [
    "import csv\n",
    "# data to be written to a csv file(a list of dictionaries)\n",
    "\n",
    "data = [\n",
    "    {\n",
    "        \"Name\" : \"John Doe\",\n",
    "        \"Age\" : \"30\",\n",
    "        \"city\" : \"galle\"\n",
    "    },\n",
    "    {\n",
    "        \"Name\" : \"Jane Smith\",\n",
    "        \"Age\" : \"25\",\n",
    "        \"city\" : \"matara\"\n",
    "    },\n",
    "    {\n",
    "        \"Name\" : \"Bob Johnson\",\n",
    "        \"Age\" : \"40\",\n",
    "        \"city\" : \"colombo\"\n",
    "    },\n",
    "    {\n",
    "        \"Name\" : \"Alice Brown\",\n",
    "        \"Age\" : \"35\",\n",
    "        \"city\" : \"galle\"\n",
    "    }\n",
    "] \n",
    "\n",
    "# define the fieldnames for the csv file\n",
    "\n",
    "fieldnames = [\"Name\",\"Age\",\"city\"]\n",
    "\n",
    "\n",
    "with open(\"test_1.csv\",\"w\",newline=\"\") as file_5:\n",
    "    csv_writer = csv.DictWriter(file_5 , fieldnames) # write a dictionary to a csv file\n",
    "    csv_writer.writeheader() # write the header to the csv file\n",
    "    csv_writer.writerows(data) # write the data to the csv file\n",
    "    print(\"csv file created\")"
   ]
  }
 ],
 "metadata": {
  "kernelspec": {
   "display_name": "Python 3",
   "language": "python",
   "name": "python3"
  },
  "language_info": {
   "codemirror_mode": {
    "name": "ipython",
    "version": 3
   },
   "file_extension": ".py",
   "mimetype": "text/x-python",
   "name": "python",
   "nbconvert_exporter": "python",
   "pygments_lexer": "ipython3",
   "version": "3.13.3"
  }
 },
 "nbformat": 4,
 "nbformat_minor": 5
}
