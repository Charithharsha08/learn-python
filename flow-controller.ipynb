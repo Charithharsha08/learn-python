{
 "cells": [
  {
   "cell_type": "code",
   "execution_count": null,
   "id": "6c14105c",
   "metadata": {},
   "outputs": [],
   "source": [
    "n = input(\"please enter a number\")\n",
    "nuber = int(n)\n",
    "\n",
    "if nuber % 2 == 0:\n",
    "    print(\"n is even\")\n",
    "    \n",
    "else:\n",
    "    print(\"n is odd\")"
   ]
  },
  {
   "cell_type": "code",
   "execution_count": null,
   "id": "4349bc41",
   "metadata": {},
   "outputs": [],
   "source": [
    "list1 = []\n",
    "\n",
    "\n",
    "if len(list1) == 0:\n",
    "    print(\"list is empty\")\n",
    "else:\n",
    "    print(\"list is not empty\")\n",
    "\n",
    "\n",
    "if list1:\n",
    "    print(\"list is not empty\")\n",
    "else:\n",
    "    print(\"list is empty\")\n"
   ]
  },
  {
   "cell_type": "code",
   "execution_count": null,
   "id": "02d25d1c",
   "metadata": {},
   "outputs": [],
   "source": [
    "side_a = 10\n",
    "side_b = 8 \n",
    "\n",
    "c = side_a ** 2 + side_b ** 2\n",
    "d = c ** 0.5\n",
    "\n",
    "if side_a <= 0 or side_b <= 0:\n",
    "    print(\"invalid numbers\")\n",
    "\n",
    "else:\n",
    "    print(\"the hypotenuse is\", d)\n",
    "\n"
   ]
  },
  {
   "cell_type": "code",
   "execution_count": null,
   "id": "fa693c2a",
   "metadata": {},
   "outputs": [],
   "source": [
    "num_1 = 100\n",
    "num_2 = 20\n",
    "num_3 = 50\n",
    "\n",
    "if num_1 > num_2 and num_1 > num_3 :\n",
    "    print(\"number 1 is largest number \")\n",
    "\n",
    "elif num_2 > num_3 and num_2 > num_3: \n",
    "    print(\"number 2 is largest number \")\n",
    "\n",
    "else:\n",
    "    print(\"number 3 is largest number \")\n",
    "\n",
    "\n"
   ]
  },
  {
   "cell_type": "code",
   "execution_count": null,
   "id": "e6e2d888",
   "metadata": {},
   "outputs": [],
   "source": [
    "num_1 = 100\n",
    "num_2 = 20\n",
    "num_3 = 50\n",
    "\n",
    "if num_1 > num_2 and num_1 > num_3 :\n",
    "    print(\"number 1 is largest number \")\n",
    "\n",
    "    if num_2 > num_3:\n",
    "        print(\"decending order num1 num2 num3\")\n",
    "    else:\n",
    "        print(\"decending order num1 num3 num2\")\n",
    "    \n",
    "\n",
    "elif num_2 > num_3 and num_2 > num_3: \n",
    "    print(\"number 2 is largest number \")\n",
    "\n",
    "    if num_1 > num_3:\n",
    "        print(\"decending order num2 num1 num3\")\n",
    "    else:\n",
    "        print(\"decending order num2 num3 num1\")\n",
    "\n",
    "\n",
    "\n",
    "else:\n",
    "    print(\"number 3 is largest number \")\n",
    "\n",
    "\n",
    "\n"
   ]
  },
  {
   "cell_type": "code",
   "execution_count": null,
   "id": "c85c5616",
   "metadata": {},
   "outputs": [],
   "source": [
    "x = 11\n",
    "\n",
    "result  = \"evan\" if x % 2 == 0 else \"odd\"\n",
    "print (result)"
   ]
  },
  {
   "cell_type": "code",
   "execution_count": null,
   "id": "8b5cae86",
   "metadata": {},
   "outputs": [],
   "source": [
    "n = -10 \n",
    "\n",
    "result =  n if n >= 0 else -n\n",
    "\n",
    "print (result)"
   ]
  },
  {
   "cell_type": "code",
   "execution_count": null,
   "id": "a0654abb",
   "metadata": {},
   "outputs": [],
   "source": [
    "variable = 10 \n",
    "\n",
    "match variable:\n",
    "    case 10:\n",
    "        print(\"value is 10\")\n",
    "    case 11:\n",
    "        print(\"value is 11\")\n",
    "    case _:\n",
    "        print( \" variable is not 10 or 11\")\n"
   ]
  },
  {
   "cell_type": "code",
   "execution_count": null,
   "id": "8fe84a6f",
   "metadata": {},
   "outputs": [],
   "source": [
    "num_1 = int(input(\"enter a number \"))\n",
    "\n",
    "match num_1:\n",
    "    case 1:\n",
    "        print(\"monday\")\n",
    "    case 2:\n",
    "        print(\"tuesday\")\n",
    "    case 3:\n",
    "        print(\"thursday\")\n",
    "    case 4: \n",
    "        print(\"wednesday\")\n",
    "    case 5:\n",
    "        print(\"friday\")\n",
    "    case 6:\n",
    "        print(\"saturday\")\n",
    "    case 7:\n",
    "        print(\"sunday\")\n",
    "    case _:\n",
    "        print(\"invalid number\")"
   ]
  },
  {
   "cell_type": "code",
   "execution_count": null,
   "id": "dd686ead",
   "metadata": {},
   "outputs": [],
   "source": [
    "color = input (\"Enter A Colour : \")\n",
    "\n",
    "match color:\n",
    "    case \"red\" | \"blinking\" | \"Red\" | \"Blinking\":\n",
    "        print(\"Stop\")\n",
    "\n",
    "    case \"yellow\" | \"Yellow\":\n",
    "        print(\"Slow Down\")\n",
    "\n",
    "    case \"green\" | \"Green\" :\n",
    "        print(\"go\")\n",
    "        \n",
    "    case _:\n",
    "        print(\"invalid Color\")"
   ]
  },
  {
   "cell_type": "code",
   "execution_count": null,
   "id": "33845ec1",
   "metadata": {},
   "outputs": [],
   "source": [
    "reading = [ 1 ,4 ,6 , 7, 8 ]\n",
    "\n",
    "match reading:\n",
    "    case [ t_1 , t_2]:\n",
    "        avarage_temp = (t_1 + t_2) / 2\n",
    "        print(\"Average temp is\", avarage_temp)\n",
    "    case [t_1 , t_2 , t_3 , t_4]:\n",
    "        diff_temp = (t_1 - t_2) - (t_3 - t_4)\n",
    "        print(\"Diff temp is\", diff_temp)\n",
    "    case _:\n",
    "        print(\"invalid reading\")"
   ]
  },
  {
   "cell_type": "code",
   "execution_count": null,
   "id": "e1599454",
   "metadata": {},
   "outputs": [],
   "source": [
    "my_list = [ 12,5,8,9,18]\n",
    "\n",
    "for items in my_list:\n",
    "    if items % 2 == 0:\n",
    "        print(items)"
   ]
  },
  {
   "cell_type": "code",
   "execution_count": 2,
   "id": "3c285958",
   "metadata": {},
   "outputs": [
    {
     "name": "stdout",
     "output_type": "stream",
     "text": [
      "1\n",
      "4\n",
      "9\n",
      "16\n",
      "25\n",
      "36\n",
      "49\n",
      "64\n",
      "81\n",
      "100\n"
     ]
    }
   ],
   "source": [
    "numbers = range(1,11)\n",
    "\n",
    "for squear in numbers:\n",
    "    print(squear ** 2)\n"
   ]
  },
  {
   "cell_type": "code",
   "execution_count": null,
   "id": "dabf9d55",
   "metadata": {},
   "outputs": [
    {
     "name": "stdout",
     "output_type": "stream",
     "text": [
      "1\n",
      "4\n",
      "9\n"
     ]
    }
   ],
   "source": [
    "number = int(input(\"enter a number \"))\n",
    "\n",
    "if number <= 0:\n",
    "    print(\"enter a positive number\")\n",
    "\n",
    "else:\n",
    "    for i in range(1,number):\n",
    "        square_value = i ** 2\n",
    "        if square_value < number:\n",
    "            print(square_value)\n",
    "        else:\n",
    "            break\n",
    "    \n",
    "\n",
    "\n"
   ]
  },
  {
   "cell_type": "code",
   "execution_count": 22,
   "id": "a2554e80",
   "metadata": {},
   "outputs": [
    {
     "name": "stdout",
     "output_type": "stream",
     "text": [
      "not found\n"
     ]
    }
   ],
   "source": [
    "my_list = [10,8,20,9,11,13,18]\n",
    "\n",
    "target = 22\n",
    "\n",
    "found = False\n",
    "\n",
    "for items in my_list:\n",
    "    if items == target:\n",
    "        print(\"found\")\n",
    "        found = True\n",
    "        break\n",
    "if not found:\n",
    "    print(\"not found\")\n"
   ]
  },
  {
   "cell_type": "code",
   "execution_count": null,
   "id": "62982a9e",
   "metadata": {},
   "outputs": [],
   "source": [
    "my_list = [10,8,20,9,11,13,18]\n",
    "\n",
    "target = 22\n",
    "\n",
    "for items in my_list:\n",
    "    if items == target:\n",
    "        print(\"found\")\n",
    "        break\n",
    "else:\n",
    "    print(\"not found\")"
   ]
  },
  {
   "cell_type": "code",
   "execution_count": 31,
   "id": "e216dac8",
   "metadata": {},
   "outputs": [
    {
     "name": "stdout",
     "output_type": "stream",
     "text": [
      "-8\n"
     ]
    }
   ],
   "source": [
    "my_list = [-10,-8,-20,-9,-11,-13,-18]\n",
    "\n",
    "max_number = my_list[0]\n",
    "\n",
    "for i in my_list:\n",
    "    if i > max_number:\n",
    "        max_number = i\n",
    "\n",
    "print(max_number)"
   ]
  },
  {
   "cell_type": "code",
   "execution_count": null,
   "id": "1968ec84",
   "metadata": {},
   "outputs": [
    {
     "name": "stdout",
     "output_type": "stream",
     "text": [
      "[4, 16, 36, 64, 100]\n"
     ]
    }
   ],
   "source": [
    "new_list = [ i ** 2  for i in range(1,11) if i % 2 == 0]\n",
    "\n",
    "print(new_list)\n"
   ]
  },
  {
   "cell_type": "code",
   "execution_count": null,
   "id": "0cf05abf",
   "metadata": {},
   "outputs": [
    {
     "name": "stdout",
     "output_type": "stream",
     "text": [
      "1\n",
      "2\n",
      "3\n",
      "4\n",
      "5\n",
      "6\n",
      "7\n",
      "8\n",
      "9\n"
     ]
    }
   ],
   "source": [
    "number = int(input(\"enter a number \"))\n",
    "\n",
    "if number <= 0:\n",
    "    print(\"enter a positive number\")\n",
    "\n",
    "count = 0\n",
    "\n",
    "while number != count +1:\n",
    "    count += 1\n",
    "    print(count)\n"
   ]
  },
  {
   "cell_type": "code",
   "execution_count": 2,
   "id": "6c0e5e9a",
   "metadata": {},
   "outputs": [
    {
     "name": "stdout",
     "output_type": "stream",
     "text": [
      "5979\n"
     ]
    }
   ],
   "source": [
    "input = 9795\n",
    "rev = 0\n",
    "\n",
    "while input > 0:\n",
    "    digit = input % 10 \n",
    "    rev = rev * 10 + digit\n",
    "    input = input // 10\n",
    "\n",
    "print(rev)"
   ]
  }
 ],
 "metadata": {
  "kernelspec": {
   "display_name": "Python 3",
   "language": "python",
   "name": "python3"
  },
  "language_info": {
   "codemirror_mode": {
    "name": "ipython",
    "version": 3
   },
   "file_extension": ".py",
   "mimetype": "text/x-python",
   "name": "python",
   "nbconvert_exporter": "python",
   "pygments_lexer": "ipython3",
   "version": "3.13.3"
  }
 },
 "nbformat": 4,
 "nbformat_minor": 5
}
