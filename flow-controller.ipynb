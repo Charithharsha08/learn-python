{
 "cells": [
  {
   "cell_type": "code",
   "execution_count": 8,
   "id": "6c14105c",
   "metadata": {},
   "outputs": [
    {
     "name": "stdout",
     "output_type": "stream",
     "text": [
      "n is even\n"
     ]
    }
   ],
   "source": [
    "n = input(\"please enter a number\")\n",
    "nuber = int(n)\n",
    "\n",
    "if nuber % 2 == 0:\n",
    "    print(\"n is even\")\n",
    "    \n",
    "else:\n",
    "    print(\"n is odd\")"
   ]
  },
  {
   "cell_type": "code",
   "execution_count": 2,
   "id": "4349bc41",
   "metadata": {},
   "outputs": [
    {
     "name": "stdout",
     "output_type": "stream",
     "text": [
      "list is empty\n",
      "list is empty\n"
     ]
    }
   ],
   "source": [
    "list1 = []\n",
    "\n",
    "\n",
    "if len(list1) == 0:\n",
    "    print(\"list is empty\")\n",
    "else:\n",
    "    print(\"list is not empty\")\n",
    "\n",
    "\n",
    "if list1:\n",
    "    print(\"list is not empty\")\n",
    "else:\n",
    "    print(\"list is empty\")\n"
   ]
  },
  {
   "cell_type": "code",
   "execution_count": 14,
   "id": "02d25d1c",
   "metadata": {},
   "outputs": [
    {
     "name": "stdout",
     "output_type": "stream",
     "text": [
      "the hypotenuse is 12.806248474865697\n"
     ]
    }
   ],
   "source": [
    "side_a = 10\n",
    "side_b = 8 \n",
    "\n",
    "c = side_a ** 2 + side_b ** 2\n",
    "d = c ** 0.5\n",
    "\n",
    "if side_a <= 0 or side_b <= 0:\n",
    "    print(\"invalid numbers\")\n",
    "\n",
    "else:\n",
    "    print(\"the hypotenuse is\", d)\n",
    "\n"
   ]
  }
 ],
 "metadata": {
  "kernelspec": {
   "display_name": "Python 3",
   "language": "python",
   "name": "python3"
  },
  "language_info": {
   "codemirror_mode": {
    "name": "ipython",
    "version": 3
   },
   "file_extension": ".py",
   "mimetype": "text/x-python",
   "name": "python",
   "nbconvert_exporter": "python",
   "pygments_lexer": "ipython3",
   "version": "3.13.3"
  }
 },
 "nbformat": 4,
 "nbformat_minor": 5
}
