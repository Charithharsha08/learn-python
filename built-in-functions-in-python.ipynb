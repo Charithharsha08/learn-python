{
 "cells": [
  {
   "cell_type": "code",
   "execution_count": 12,
   "id": "234677f0",
   "metadata": {},
   "outputs": [
    {
     "name": "stdout",
     "output_type": "stream",
     "text": [
      "<map object at 0x107dac5b0>\n",
      "[36, 25, 9, 4, 81]\n"
     ]
    }
   ],
   "source": [
    "def find_squre(value):\n",
    "    return value ** 2\n",
    "\n",
    "my_list = [6,5,3,2,9]\n",
    "\n",
    "squre_values = map(find_squre,my_list)\n",
    "print(squre_values)\n",
    "print(list(squre_values))"
   ]
  },
  {
   "cell_type": "code",
   "execution_count": 16,
   "id": "a40495ed",
   "metadata": {},
   "outputs": [
    {
     "name": "stdout",
     "output_type": "stream",
     "text": [
      "[32.0, 68.0, 98.6, 212.0, 14.0]\n"
     ]
    }
   ],
   "source": [
    "# you are given a list of tempreture in celcius\n",
    "\n",
    "\n",
    "# write a python function that convert this list into fahrenheit using the formula\n",
    "\n",
    "#  f = c * 9/5 + 32\n",
    "\n",
    "# use the map function to prefrom the convertion \n",
    "\n",
    "# return the list of fahrenheit values\n",
    "\n",
    "celsius_values = [ 0,20,37,100,-10] \n",
    "\n",
    "def calculate_value(celsius_values):\n",
    "    fahrenheit_values =  map(convert_fahrenheit_values,celsius_values)\n",
    "    return list(fahrenheit_values) \n",
    "\n",
    "def convert_fahrenheit_values(celsius):\n",
    "    fahrenheit = celsius * 9/5 + 32\n",
    "    return fahrenheit\n",
    "\n",
    "print(calculate_value(celsius_values))\n"
   ]
  },
  {
   "cell_type": "code",
   "execution_count": 20,
   "id": "18638cbb",
   "metadata": {},
   "outputs": [
    {
     "name": "stdout",
     "output_type": "stream",
     "text": [
      "[2, 4, 6, 8]\n"
     ]
    }
   ],
   "source": [
    "# filter \n",
    "\n",
    "number_list  = [ 1 , 2 , 3 , 4 , 5 , 6 , 7 , 8 , 9 ]\n",
    "\n",
    "def find_even_numbers(num):\n",
    "    return num % 2 == 0\n",
    "\n",
    "print(list(filter(find_even_numbers,number_list)))\n",
    "\n"
   ]
  },
  {
   "cell_type": "code",
   "execution_count": null,
   "id": "e16bf634",
   "metadata": {},
   "outputs": [
    {
     "name": "stdout",
     "output_type": "stream",
     "text": [
      "9\n",
      "9\n"
     ]
    }
   ],
   "source": [
    "# lambda function. \n",
    "\n",
    "add = lambda x , y : x + y\n",
    "\n",
    "result = add( 4 , 5 )\n",
    "print( result )\n",
    "\n",
    "# do samething in single line\n",
    "print((lambda x , y : x + y)(4,5))"
   ]
  },
  {
   "cell_type": "code",
   "execution_count": 27,
   "id": "0a609403",
   "metadata": {},
   "outputs": [
    {
     "name": "stdout",
     "output_type": "stream",
     "text": [
      "[2, 4, 6, 8, 10]\n"
     ]
    }
   ],
   "source": [
    "# given a list of integers, use map with a \"lamda\" function to create a new list where each number is double\n",
    "\n",
    "number_list = [ 1 , 2 , 3 , 4 , 5 ]\n",
    "\n",
    "print (list(map(lambda number:number * 2 , number_list )))"
   ]
  },
  {
   "cell_type": "code",
   "execution_count": null,
   "id": "5d9d96ff",
   "metadata": {},
   "outputs": [
    {
     "name": "stdout",
     "output_type": "stream",
     "text": [
      "[12, 18, 22, 16]\n"
     ]
    }
   ],
   "source": [
    "# your given the followng list of integers \n",
    "\n",
    "numbers = [ 12, 18, 17, 15, 22, 23, 16]\n",
    "\n",
    "# write a python programme that use the filter function with the lamda dunction to remove all odd numbers from the list\n",
    "even_number_list = filter(lambda number : number % 2 == 0 , numbers)\n",
    "print(list(even_number_list))\n"
   ]
  },
  {
   "cell_type": "code",
   "execution_count": 35,
   "id": "83ba4e79",
   "metadata": {},
   "outputs": [
    {
     "name": "stdout",
     "output_type": "stream",
     "text": [
      "3\n"
     ]
    }
   ],
   "source": [
    "# write a python programme with a lambda fuction to deside the lagest between two number \n",
    "\n",
    "max = lambda number1,number2 : x if (number1 > number2) else number2\n",
    "\n",
    "print(max(1,3))"
   ]
  }
 ],
 "metadata": {
  "kernelspec": {
   "display_name": "Python 3",
   "language": "python",
   "name": "python3"
  },
  "language_info": {
   "codemirror_mode": {
    "name": "ipython",
    "version": 3
   },
   "file_extension": ".py",
   "mimetype": "text/x-python",
   "name": "python",
   "nbconvert_exporter": "python",
   "pygments_lexer": "ipython3",
   "version": "3.13.3"
  }
 },
 "nbformat": 4,
 "nbformat_minor": 5
}
