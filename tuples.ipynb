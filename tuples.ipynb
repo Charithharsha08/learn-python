{
 "cells": [
  {
   "cell_type": "code",
   "execution_count": 2,
   "id": "f5d94321",
   "metadata": {},
   "outputs": [
    {
     "name": "stdout",
     "output_type": "stream",
     "text": [
      "('tennis', 'Cricket', 'Football')\n",
      "<class 'tuple'>\n",
      "Cricket\n"
     ]
    }
   ],
   "source": [
    "sports = (\"tennis\",\"Cricket\",\"Football\")\n",
    "\n",
    "print(sports)\n",
    "print(type(sports))\n",
    "print(sports[1])"
   ]
  },
  {
   "cell_type": "code",
   "execution_count": 1,
   "id": "76d3e092",
   "metadata": {},
   "outputs": [
    {
     "name": "stdout",
     "output_type": "stream",
     "text": [
      "<class 'str'>\n"
     ]
    }
   ],
   "source": [
    "name = (\"charith\")\n",
    "print(type(name))"
   ]
  },
  {
   "cell_type": "code",
   "execution_count": null,
   "id": "92948506",
   "metadata": {},
   "outputs": [],
   "source": [
    "my_tuple = (\"apple\",\"banana\",\"orange\")\n",
    "\n"
   ]
  },
  {
   "cell_type": "code",
   "execution_count": 9,
   "id": "60f4cc9e",
   "metadata": {},
   "outputs": [
    {
     "name": "stdout",
     "output_type": "stream",
     "text": [
      "<class 'list'>\n",
      "('apple', 'banana', 'orange')\n",
      "<class 'tuple'>\n"
     ]
    }
   ],
   "source": [
    "my_tuple = (\"apple\",\"banana\",\"orange\")\n",
    "\n",
    "x = list(my_tuple)\n",
    "\n",
    "print(type(x))\n",
    "\n",
    "x [1] = \"graphs\"\n",
    "\n",
    "y = tuple(my_tuple)\n",
    "\n",
    "print(y)\n",
    "print(type(my_tuple))"
   ]
  },
  {
   "cell_type": "code",
   "execution_count": null,
   "id": "3912e67f",
   "metadata": {},
   "outputs": [
    {
     "name": "stdout",
     "output_type": "stream",
     "text": [
      "b True\n",
      "\n"
     ]
    }
   ],
   "source": [
    "nested_typle = ((1,2,3),(\"a\",\"b\",\"c\"),(True,False))\n",
    "print(nested_typle[1][1],nested_typle[2][0])\n"
   ]
  },
  {
   "cell_type": "code",
   "execution_count": null,
   "id": "c25641da",
   "metadata": {},
   "outputs": [
    {
     "name": "stdout",
     "output_type": "stream",
     "text": [
      "{'Football', 'tennis', 'Cricket'}\n"
     ]
    }
   ],
   "source": [
    "\n"
   ]
  }
 ],
 "metadata": {
  "kernelspec": {
   "display_name": "Python 3",
   "language": "python",
   "name": "python3"
  },
  "language_info": {
   "codemirror_mode": {
    "name": "ipython",
    "version": 3
   },
   "file_extension": ".py",
   "mimetype": "text/x-python",
   "name": "python",
   "nbconvert_exporter": "python",
   "pygments_lexer": "ipython3",
   "version": "3.13.3"
  }
 },
 "nbformat": 4,
 "nbformat_minor": 5
}
