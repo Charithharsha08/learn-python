{
 "cells": [
  {
   "cell_type": "code",
   "execution_count": 21,
   "id": "2933dfd5",
   "metadata": {},
   "outputs": [
    {
     "name": "stdout",
     "output_type": "stream",
     "text": [
      "30\n"
     ]
    }
   ],
   "source": [
    "a = 10\n",
    "b = 20\n",
    "c = a + b\n",
    "print(c)"
   ]
  },
  {
   "cell_type": "code",
   "execution_count": 22,
   "id": "afdff441",
   "metadata": {},
   "outputs": [
    {
     "name": "stdout",
     "output_type": "stream",
     "text": [
      "200\n"
     ]
    }
   ],
   "source": [
    "num_1 = 10\n",
    "num_2 = 20\n",
    "\n",
    "print(num_1 * num_2)\n"
   ]
  },
  {
   "cell_type": "code",
   "execution_count": 23,
   "id": "5fb77075",
   "metadata": {},
   "outputs": [
    {
     "name": "stdout",
     "output_type": "stream",
     "text": [
      "10\n",
      "charith\n",
      "True\n"
     ]
    }
   ],
   "source": [
    "# python variables has no data type python is dynamically typed\n",
    "\n",
    "a = 10\n",
    "\n",
    "name = \"charith\"\n",
    "\n",
    "is_true = True\n",
    "\n",
    "print(a)\n",
    "print(name)\n",
    "print(is_true)"
   ]
  },
  {
   "cell_type": "code",
   "execution_count": 24,
   "id": "21f13e51",
   "metadata": {},
   "outputs": [],
   "source": [
    "# python Rules \n",
    "\n",
    "# first character cannot be a number it can be underscore or letter\n",
    "# variable name should not start with a number\n",
    "\n",
    "#2num = 20\n",
    "\n",
    "# a varible name can only contain alpha numeric and underscore\n",
    "\n",
    "# avoid using keywords and reserved words in variable name\n",
    "\n",
    "# avoid using spaces in variable name\n",
    "\n",
    "# variable name should be short and meaningful\n",
    "\n",
    "# python variable names should be lowercase with words separated by underscore as necessary to improve readability\n",
    "\n",
    "# EXAMPLE\n",
    "# first_name = \"charith\"\n",
    "# last_name = \"harsha\"\n",
    "# full_name = first_name + \" \" + last_name\n",
    "\n",
    "# the pep 8 style guide also recommends that python varible names describe the purpose of the variable\n",
    "\n",
    "# EXAMPLE\n",
    "# first_name = \"charith\"\n",
    "# last_name = \"harsha\"\n",
    "# full_name = first_name + \" \" + last_name\n",
    "\n",
    "# if you have consntants use all capital letters\n",
    "\n",
    "#EXAMPLE\n",
    "#PI = 3.14\n",
    "\n",
    "\n",
    "\n",
    "\n",
    "\n"
   ]
  },
  {
   "cell_type": "code",
   "execution_count": 25,
   "id": "c7e5e5e5",
   "metadata": {},
   "outputs": [
    {
     "name": "stdout",
     "output_type": "stream",
     "text": [
      "<class 'int'>\n",
      "<class 'float'>\n",
      "<class 'str'>\n",
      "<class 'bool'>\n",
      "<class 'complex'>\n",
      "<class 'float'>\n",
      "15000000000.0\n"
     ]
    }
   ],
   "source": [
    "# python data types\n",
    "\n",
    "# int\n",
    "\n",
    "num = 10\n",
    "print(type(num))\n",
    "\n",
    "# float\n",
    "\n",
    "num_2 = 10.5\n",
    "print(type(num_2))\n",
    "\n",
    "# string\n",
    "\n",
    "name = \"charith\"\n",
    "print(type(name))\n",
    "\n",
    "# boolean\n",
    "\n",
    "is_true = True\n",
    "print(type(is_true))\n",
    "\n",
    "\n",
    "#numeric data types\n",
    "\n",
    "# int,float,complex\n",
    "\n",
    "\n",
    "# complex\n",
    "num_3 = 10 + 10j\n",
    "print(type(num_3))\n",
    "\n",
    "# float can also be scientific numbers with an \"e\" to indicate the power of 10\n",
    "\n",
    "# EXAMPLE\n",
    "# 1.5 x 10^10\n",
    "\n",
    "num_4 = 1.5e10\n",
    "print(type(num_4))\n",
    "print(num_4)\n",
    "\n"
   ]
  },
  {
   "cell_type": "code",
   "execution_count": 26,
   "id": "525684d6",
   "metadata": {},
   "outputs": [
    {
     "name": "stdout",
     "output_type": "stream",
     "text": [
      "<class 'int'>\n",
      "10\n",
      "<class 'float'>\n",
      "10.0\n",
      "<class 'float'>\n",
      "10.5\n",
      "<class 'int'>\n",
      "10\n"
     ]
    }
   ],
   "source": [
    "# data type conversion\n",
    "\n",
    "# int to float\n",
    "\n",
    "num_5 = 10\n",
    "print(type(num_5))\n",
    "print(num_5)\n",
    "\n",
    "num_6 = float(num_5)\n",
    "print(type(num_6))\n",
    "print(num_6)\n",
    "\n",
    "# float to int\n",
    "\n",
    "num_7 = 10.5\n",
    "print(type(num_7))\n",
    "print(num_7)\n",
    "\n",
    "num_8 = int(num_7)\n",
    "print(type(num_8))\n",
    "print(num_8)"
   ]
  },
  {
   "cell_type": "code",
   "execution_count": null,
   "id": "83a6d7b0",
   "metadata": {},
   "outputs": [
    {
     "name": "stdout",
     "output_type": "stream",
     "text": [
      "[10, 5, 'charith', 6.2, True]\n",
      "<class 'list'>\n",
      "10\n",
      "True\n",
      "[10, 5]\n",
      "[10, 5]\n",
      "['charith', 6.2, True]\n",
      "[20, 5, 'charith', 6.2, True]\n",
      "[20, 5, 'kate', 9.4, False]\n",
      "[20, 5, 'kate', 9.4, False, 30]\n",
      "[20, 5, 'kate', 'harsha jayashan', 9.4, False, 30]\n",
      "[2, 6, 8, 9, 6, 5, 7, 'end', 1, 2, 2, 5, 6]\n",
      "[20, 5, 'kate', 'harsha jayashan', 9.4, False]\n",
      "[20, 5, 'kate', 'harsha jayashan', 9.4]\n",
      "[5, 'kate', 'harsha jayashan', 9.4]\n"
     ]
    }
   ],
   "source": [
    "# python collectors \n",
    "\n",
    "# list\n",
    "\n",
    "# list is a collection of items in a particular order \n",
    "# allows duplicate values\n",
    "\n",
    "my_list = [10, 5, \"charith\",6.2,True]\n",
    "print(my_list)\n",
    "print(type(my_list))\n",
    "\n",
    "# values can access using index\n",
    "print(my_list[0])\n",
    "\n",
    "# values can access using index\n",
    "print(my_list[-1]) # negative index \n",
    "\n",
    "# values can access using index\n",
    "print(my_list[0:2]) # slicing\n",
    "\n",
    "# values can access using index\n",
    "print(my_list[:2]) # slicing\n",
    "\n",
    "# values can access using index\n",
    "print(my_list[2:]) # slicing\n",
    "\n",
    "# values can be changed using index\n",
    "my_list[0] = 20\n",
    "print(my_list)\n",
    "\n",
    "my_list[2:] = [\"kate\",9.4,False]\n",
    "print(my_list)\n",
    "\n",
    "# values can be added using append method\n",
    "my_list.append(30)\n",
    "print(my_list)\n",
    "\n",
    "# values can be added using insert method\n",
    "my_list.insert(3,\"harsha jayashan\")\n",
    "print(my_list)\n",
    "\n",
    "# array can be extend in another array \n",
    "my_list_1 = [1 ,2 ,2 ,5 ,6 ]\n",
    "my_list_2 = [2,6,8,9,6,5,7,\"end\"]\n",
    "\n",
    "my_list_2.extend(my_list_1)\n",
    "print(my_list_2)\n",
    "\n",
    "# values can be removed using remove method\n",
    "my_list.remove(30) # not index it should be value\n",
    "print(my_list)\n",
    "\n",
    "# values can be removed using pop method\n",
    "my_list.pop()\n",
    "print(my_list)\n",
    "\n",
    "# values can be removed using del keyword\n",
    "del my_list[0]\n",
    "print(my_list)\n",
    "\n"
   ]
  },
  {
   "cell_type": "code",
   "execution_count": null,
   "id": "019a54f2",
   "metadata": {},
   "outputs": [],
   "source": [
    "# tuple\n",
    "\n",
    "# tuple is a collection of items in a particular order\n",
    "\n",
    "my_tuple = (1,2,3,4,5)\n",
    "print(my_tuple)\n",
    "print(type(my_tuple))\n",
    "\n"
   ]
  },
  {
   "cell_type": "code",
   "execution_count": null,
   "id": "469f8d40",
   "metadata": {},
   "outputs": [],
   "source": [
    "# set\n",
    "\n",
    "# set is a collection of unique items\n",
    "\n",
    "my_set = {1,2,3,4,5}\n",
    "print(my_set)\n",
    "print(type(my_set))\n",
    "\n",
    "\n"
   ]
  },
  {
   "cell_type": "code",
   "execution_count": null,
   "id": "680454e1",
   "metadata": {},
   "outputs": [],
   "source": [
    "# dictionary\n",
    "\n",
    "# dictionary is a collection of key-value pairs\n",
    "\n",
    "my_dict = {\"name\":\"charith\",\"age\":20}\n",
    "print(my_dict)\n",
    "print(type(my_dict))"
   ]
  }
 ],
 "metadata": {
  "kernelspec": {
   "display_name": "Python 3",
   "language": "python",
   "name": "python3"
  },
  "language_info": {
   "codemirror_mode": {
    "name": "ipython",
    "version": 3
   },
   "file_extension": ".py",
   "mimetype": "text/x-python",
   "name": "python",
   "nbconvert_exporter": "python",
   "pygments_lexer": "ipython3",
   "version": "3.13.3"
  }
 },
 "nbformat": 4,
 "nbformat_minor": 5
}
