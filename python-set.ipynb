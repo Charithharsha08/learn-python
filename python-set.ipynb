{
 "cells": [
  {
   "cell_type": "code",
   "execution_count": null,
   "id": "6a83a522",
   "metadata": {},
   "outputs": [],
   "source": [
    "sports = {\"tennis\",\"Cricket\",\"Football\"}\n",
    "\n",
    "print(sports)"
   ]
  },
  {
   "cell_type": "code",
   "execution_count": null,
   "id": "7a3e062d",
   "metadata": {},
   "outputs": [
    {
     "name": "stdout",
     "output_type": "stream",
     "text": [
      "{'tennis', 'Cricket', 'Football'}\n"
     ]
    }
   ],
   "source": [
    "sports = {\"tennis\",\"Cricket\",\"Football\",\"Football\"}\n",
    "# duplicate are not allowed\n",
    "print(sports)"
   ]
  },
  {
   "cell_type": "code",
   "execution_count": null,
   "id": "64b0f70a",
   "metadata": {},
   "outputs": [
    {
     "name": "stdout",
     "output_type": "stream",
     "text": [
      "{'rugger', 'tennis', 'Cricket', 'Football'}\n"
     ]
    }
   ],
   "source": [
    "# add single value \n",
    "\n",
    "sports = {\"tennis\",\"Cricket\",\"Football\"}\n",
    "\n",
    "sports.add(\"rugger\")\n",
    "\n",
    "print(sports)"
   ]
  },
  {
   "cell_type": "code",
   "execution_count": null,
   "id": "9520f1c7",
   "metadata": {},
   "outputs": [
    {
     "name": "stdout",
     "output_type": "stream",
     "text": [
      "{'tennis', 'Football', 'Cricket', 'banana', 'apple'}\n"
     ]
    }
   ],
   "source": [
    "#set update\n",
    "sports = {\"tennis\",\"Cricket\",\"Football\"}\n",
    "\n",
    "set_1 = {\"apple\",\"banana\"}\n",
    "\n",
    "sports.update(set_1)\n",
    "print(sports)"
   ]
  },
  {
   "cell_type": "code",
   "execution_count": 8,
   "id": "c92f3349",
   "metadata": {},
   "outputs": [
    {
     "name": "stdout",
     "output_type": "stream",
     "text": [
      "{'tennis', 'Football', 'banana', 'Cricket', 'apple'}\n"
     ]
    }
   ],
   "source": [
    "# Add List to the set\n",
    "\n",
    "sports = {\"tennis\",\"Cricket\",\"Football\"}\n",
    "\n",
    "set_1 = [\"apple\",\"banana\"]\n",
    "\n",
    "sports.update(set_1)\n",
    "print(sports)"
   ]
  },
  {
   "cell_type": "code",
   "execution_count": 12,
   "id": "3dab7a69",
   "metadata": {},
   "outputs": [
    {
     "name": "stdout",
     "output_type": "stream",
     "text": [
      "[25, 30, 40, 50, 60]\n",
      "\n"
     ]
    }
   ],
   "source": [
    "list_1 = [50,60,30,40,50,25,60,30,40]\n",
    "\n",
    "x=set(list_1)\n",
    "list_1=list(x)\n",
    "list_1.sort()\n",
    "print(list_1)\n",
    "\n",
    "#remove the dublicated elemengts from list one and and present the remaining eliment in accending order\n",
    "\n",
    "\n",
    "print()"
   ]
  }
 ],
 "metadata": {
  "kernelspec": {
   "display_name": "Python 3",
   "language": "python",
   "name": "python3"
  },
  "language_info": {
   "codemirror_mode": {
    "name": "ipython",
    "version": 3
   },
   "file_extension": ".py",
   "mimetype": "text/x-python",
   "name": "python",
   "nbconvert_exporter": "python",
   "pygments_lexer": "ipython3",
   "version": "3.13.3"
  }
 },
 "nbformat": 4,
 "nbformat_minor": 5
}
