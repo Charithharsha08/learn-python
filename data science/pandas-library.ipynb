{
 "cells": [
  {
   "cell_type": "code",
   "execution_count": 17,
   "id": "9b35f742",
   "metadata": {},
   "outputs": [
    {
     "name": "stdout",
     "output_type": "stream",
     "text": [
      "     Name  Age\n",
      "0   alice   25\n",
      "1     bob   30\n",
      "2   david   35\n",
      "3  chalie   40\n",
      "\n",
      "alice\n",
      "30\n",
      "    Name  Age\n",
      "0  alice   25\n",
      "1    bob   30\n",
      "\n",
      "Name    david\n",
      "Age        35\n",
      "Name: 2, dtype: object\n"
     ]
    }
   ],
   "source": [
    "import pandas as pd\n",
    "# Create a DataFrame with sample data\n",
    "\n",
    "\n",
    "data = {\n",
    "    \"Name\": [\"alice\", \"bob\", \"david\", \"chalie\"],\n",
    "    \"Age\": [25, 30, 35, 40]\n",
    "}\n",
    "\n",
    "df = pd.DataFrame(data)\n",
    "print(df)\n",
    "print('')\n",
    "print(df.loc[0, 'Name'])  # Access the name of the first row\n",
    "print(df.iloc[1, 1])  # Access the age of the second row\n",
    "\n",
    "print(df.iloc[0:2])\n",
    "print()\n",
    "print(df.iloc[2])  # Access the age of the first two rows"
   ]
  },
  {
   "cell_type": "code",
   "execution_count": null,
   "id": "9839496f",
   "metadata": {},
   "outputs": [
    {
     "name": "stdout",
     "output_type": "stream",
     "text": [
      "             Name  Age\n",
      "student_1   alice   25\n",
      "student_2     bob   30\n",
      "student_3   david   35\n",
      "student_4  chalie   40\n",
      "\n",
      "Name    bob\n",
      "Age      30\n",
      "Name: student_2, dtype: object\n",
      "\n",
      "Name    david\n",
      "Age        35\n",
      "Name: student_3, dtype: object\n",
      "\n",
      "             Name  Age\n",
      "student_2     bob   30\n",
      "student_4  chalie   40\n"
     ]
    }
   ],
   "source": [
    "df = pd.DataFrame(data, index=['student_1', 'student_2', 'student_3', 'student_4'])\n",
    "print(df)\n",
    "print()\n",
    "\n",
    "print(df.iloc[1])\n",
    "print()\n",
    "print(df.loc['student_3'])\n",
    "print()\n",
    "print(df.loc[['student_2','student_4']])\n"
   ]
  },
  {
   "cell_type": "code",
   "execution_count": null,
   "id": "78abd176",
   "metadata": {},
   "outputs": [],
   "source": [
    "print(df.columns)  # Access the columns of the DataFrame\n"
   ]
  },
  {
   "cell_type": "code",
   "execution_count": 30,
   "id": "5f91514f",
   "metadata": {},
   "outputs": [
    {
     "name": "stdout",
     "output_type": "stream",
     "text": [
      "student_1    25\n",
      "student_2    30\n",
      "student_3    35\n",
      "student_4    40\n",
      "Name: Age, dtype: int64\n",
      "['Name', 'Age']\n"
     ]
    }
   ],
   "source": [
    "print(df[\"Age\"])  # Access the 'Age' column\n",
    "print(list (df.columns))"
   ]
  },
  {
   "cell_type": "code",
   "execution_count": null,
   "id": "db6a62c7",
   "metadata": {},
   "outputs": [
    {
     "name": "stdout",
     "output_type": "stream",
     "text": [
      "[['alice' 25]\n",
      " ['bob' 30]\n",
      " ['david' 35]\n",
      " ['chalie' 40]]\n"
     ]
    }
   ],
   "source": [
    "print(df.values) # Access the values of the DataFrame  "
   ]
  },
  {
   "cell_type": "code",
   "execution_count": 36,
   "id": "2c28f2cc",
   "metadata": {},
   "outputs": [
    {
     "name": "stdout",
     "output_type": "stream",
     "text": [
      "32.5\n"
     ]
    }
   ],
   "source": [
    "#print(df.mean())  # Calculate the mean of each column\n",
    "print(df['Age'].mean())  # Calculate the mean of the 'Age' column"
   ]
  },
  {
   "cell_type": "code",
   "execution_count": 38,
   "id": "983a048f",
   "metadata": {},
   "outputs": [
    {
     "name": "stdout",
     "output_type": "stream",
     "text": [
      "130\n"
     ]
    }
   ],
   "source": [
    "#print(df.sum())  # Calculate the sum of each column\n",
    "print(df['Age'].sum())  # Calculate the sum of the 'Age' column"
   ]
  },
  {
   "cell_type": "code",
   "execution_count": 39,
   "id": "6bb02bd5",
   "metadata": {},
   "outputs": [
    {
     "name": "stdout",
     "output_type": "stream",
     "text": [
      "             Name  Age     city\n",
      "student_1   alice   25  colombo\n",
      "student_2     bob   30    kandy\n",
      "student_3   david   35    galle\n",
      "student_4  chalie   40   matara\n"
     ]
    }
   ],
   "source": [
    "df['city'] = ['colombo', 'kandy', 'galle', 'matara']  # Add a new column\n",
    "print(df)"
   ]
  },
  {
   "cell_type": "code",
   "execution_count": 40,
   "id": "e233f8db",
   "metadata": {},
   "outputs": [
    {
     "name": "stdout",
     "output_type": "stream",
     "text": [
      "             Name  Age     city  salary\n",
      "student_1   alice   25  colombo   50000\n",
      "student_2     bob   30    kandy   60000\n",
      "student_3   david   35    galle   70000\n",
      "student_4  chalie   40   matara   80000\n"
     ]
    }
   ],
   "source": [
    "df['salary'] = [50000, 60000, 70000, 80000]  # Add another new column\n",
    "print(df)"
   ]
  },
  {
   "cell_type": "code",
   "execution_count": 44,
   "id": "28d29430",
   "metadata": {},
   "outputs": [
    {
     "name": "stdout",
     "output_type": "stream",
     "text": [
      "             Name  Age    city  salary\n",
      "student_3   david   35   galle   70000\n",
      "student_4  chalie   40  matara   80000\n",
      "\n",
      "<class 'pandas.core.frame.DataFrame'>\n"
     ]
    }
   ],
   "source": [
    "filter_df = df[df['Age'] > 30]  # Filter rows where Age is greater than 30\n",
    "print(filter_df)\n",
    "print()\n",
    "print(type(filter_df))  # Check the type of the filtered DataFrame"
   ]
  },
  {
   "cell_type": "code",
   "execution_count": 50,
   "id": "e5621498",
   "metadata": {},
   "outputs": [
    {
     "name": "stdout",
     "output_type": "stream",
     "text": [
      "          Name  Age   city  salary\n",
      "student_2  bob   30  kandy   60000\n"
     ]
    }
   ],
   "source": [
    "new_filtered_df = df[(df['Age'] > 28) & (df['salary'] < 65000)]  \n",
    "print(new_filtered_df)"
   ]
  },
  {
   "cell_type": "markdown",
   "id": "cd668da6",
   "metadata": {},
   "source": [
    "you are given the following data set representing the exam record of student in a programming cource the data includes marks for two assignment and a final exam \n",
    "\n",
    "StudentId Name Assignment1 Assignment2 FinalExam\n",
    "1001 ayesha 78 85 90\n",
    "1002 nimal  65 70 92\n",
    "1003 tharindu 88 90 95\n",
    "1004 kasun 50 45 60\n",
    "1005 shashini 80 75 85\n",
    "\n",
    "write a python using pandas to ,\n",
    "    1. create a dataframe using the data given above\n",
    "    2. display the names of all student who scored more than 80 in the final exam \n",
    "    3. compute the avarage score each student across all three and add is as a new coulmn called avarage \n",
    "    4. display the student(s) with the higest avarage student \n",
    "    5. calculate and display the total marks scored by all students in assignment 1 "
   ]
  },
  {
   "cell_type": "code",
   "execution_count": null,
   "id": "42d0ea9b",
   "metadata": {},
   "outputs": [
    {
     "name": "stdout",
     "output_type": "stream",
     "text": [
      "       Name  Final_exam\n",
      "0    ayesha          90\n",
      "2  tharindu          95\n",
      "4  shashini          85\n",
      "\n",
      "   Student_id      Name  Assignment_1  Assignment_2  Final_exam   avarages\n",
      "0        1001    ayesha            78            85          90  84.333333\n",
      "1        1002     nimal            65            70          72  69.000000\n",
      "2        1003  tharindu            88            90          95  91.000000\n",
      "3        1004     kasun            50            45          60  51.666667\n",
      "4        1005  shashini            80            75          85  80.000000\n",
      "\n",
      "361\n"
     ]
    }
   ],
   "source": [
    "import pandas as pd\n",
    "#1\n",
    "student_data = {\n",
    "    \"Student_id\" : [1001,1002,1003,1004,1005],\n",
    "    \"Name\" : [\"ayesha\",\"nimal\",\"tharindu\",\"kasun\",\"shashini\"],\n",
    "    \"Assignment_1\" : [78,65,88,50,80],\n",
    "    \"Assignment_2\" : [85,70,90,45,75],\n",
    "    \"Final_exam\" : [90,72,95,60,85]\n",
    "}\n",
    "\n",
    "student_data_df = pd.DataFrame(student_data)\n",
    "\n",
    "#2\n",
    "high_marks = student_data_df[student_data_df[\"Final_exam\"] > 80]\n",
    "\n",
    "print(high_marks[['Name','Final_exam']])\n",
    "print()\n",
    "\n",
    "student_data_df['avarages'] = (student_data_df['Assignment_1'] + student_data_df['Assignment_2'] + student_data_df[\"Final_exam\"]) / 3\n",
    "print(student_data_df)\n",
    "print()\n",
    "\n",
    "avarage_df = student_data_df[\"avarages\"] == student_data_df[\"avarages\"].max()\n",
    "\n",
    "\n",
    "print(student_data_df['Assignment_1'].sum())\n"
   ]
  },
  {
   "cell_type": "code",
   "execution_count": 99,
   "id": "2bb62d62",
   "metadata": {},
   "outputs": [
    {
     "name": "stdout",
     "output_type": "stream",
     "text": [
      "          Name  Age Occupation\n",
      "0     John Doe   30   Engineer\n",
      "1   Jane Smith   25    Teacher\n",
      "2  Bob Johnson   40     Doctor\n",
      "3  Alice Brown   35     Artist\n"
     ]
    }
   ],
   "source": [
    "df = pd.read_csv('test.csv')\n",
    "print(df)"
   ]
  }
 ],
 "metadata": {
  "kernelspec": {
   "display_name": "Python 3",
   "language": "python",
   "name": "python3"
  },
  "language_info": {
   "codemirror_mode": {
    "name": "ipython",
    "version": 3
   },
   "file_extension": ".py",
   "mimetype": "text/x-python",
   "name": "python",
   "nbconvert_exporter": "python",
   "pygments_lexer": "ipython3",
   "version": "3.13.3"
  }
 },
 "nbformat": 4,
 "nbformat_minor": 5
}
