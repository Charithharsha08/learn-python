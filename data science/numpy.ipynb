{
 "cells": [
  {
   "cell_type": "code",
   "execution_count": 10,
   "id": "922be690",
   "metadata": {},
   "outputs": [
    {
     "name": "stdout",
     "output_type": "stream",
     "text": [
      "Addition Result: [ 7  9 11 13 15]\n",
      "Subtraction Result: [-5 -5 -5 -5 -5]\n",
      "Multiplication Result: [ 6 14 24 36 50]\n",
      "Division Result: [0.16666667 0.28571429 0.375      0.44444444 0.5       ]\n"
     ]
    }
   ],
   "source": [
    "import numpy as np\n",
    "\n",
    "arry1 = np.array([1, 2, 3, 4, 5])\n",
    "arry2 = np.array([6, 7, 8, 9, 10])\n",
    "\n",
    "result_addition = arry1 + arry2  # Element-wise addition of arrays\n",
    "result_subtraction = arry1 - arry2 # Element-wise subtraction of arrays\n",
    "result_multiplication = arry1 * arry2  # Element-wise multiplication of arrays\n",
    "result_devision = arry1 / arry2  # Element-wise division of arrays\n",
    "\n",
    "print(\"Addition Result:\", result_addition)\n",
    "print(\"Subtraction Result:\", result_subtraction)\n",
    "print(\"Multiplication Result:\", result_multiplication)\n",
    "print(\"Division Result:\", result_devision)"
   ]
  },
  {
   "cell_type": "code",
   "execution_count": 11,
   "id": "fba64604",
   "metadata": {},
   "outputs": [
    {
     "name": "stdout",
     "output_type": "stream",
     "text": [
      "[1.         1.41421356 1.73205081 2.         2.23606798]\n",
      "15\n",
      "3.0\n",
      "1\n",
      "5\n"
     ]
    }
   ],
   "source": [
    "import numpy as np\n",
    "\n",
    "arry1 = np.array([1, 2, 3, 4, 5])\n",
    "\n",
    "print(np.sqrt(arry1))  # Element-wise square root of the array\n",
    "print(np.sum(arry1))  # Sum of all elements in the array\n",
    "print(np.mean(arry1))  # Mean of the elements in the array\n",
    "print(np.min(arry1))  # Minimum value in the array\n",
    "print(np.max(arry1))  # Maximum value in the array"
   ]
  },
  {
   "cell_type": "code",
   "execution_count": 12,
   "id": "460ab35a",
   "metadata": {},
   "outputs": [
    {
     "name": "stdout",
     "output_type": "stream",
     "text": [
      "6\n",
      "2\n",
      "(2, 3)\n"
     ]
    }
   ],
   "source": [
    "arr1 = np.array([[9,10,6],[8,12,20]])\n",
    "\n",
    "print(arr1.size)  # count single element size\n",
    "print(arr1.ndim)  # number of dimensions\n",
    "print(arr1.shape)  # shape of the array(rows, columns)\n"
   ]
  },
  {
   "cell_type": "code",
   "execution_count": 13,
   "id": "27506bed",
   "metadata": {},
   "outputs": [
    {
     "name": "stdout",
     "output_type": "stream",
     "text": [
      "<U32\n"
     ]
    }
   ],
   "source": [
    "arr2 = np.array([1, 2, 3, True, 5.0, \"Hello\"])\n",
    "print(arr2.dtype)\n",
    "\n"
   ]
  },
  {
   "cell_type": "code",
   "execution_count": 14,
   "id": "fb6dcbda",
   "metadata": {},
   "outputs": [
    {
     "name": "stdout",
     "output_type": "stream",
     "text": [
      "5\n",
      "[1 2 3]\n",
      "[2 5]\n"
     ]
    }
   ],
   "source": [
    "arr3 = np.array([[1, 2, 3], [4, 5, 6]])\n",
    "\n",
    "print(arr3[1,1]) # Accessing element at row 1, column 1\n",
    "print(arr3[0, :]) # Accessing all elements in row 0\n",
    "print(arr3[:, 1]) # Accessing all elements in column 1"
   ]
  },
  {
   "cell_type": "code",
   "execution_count": 15,
   "id": "8e24f07f",
   "metadata": {},
   "outputs": [
    {
     "name": "stdout",
     "output_type": "stream",
     "text": [
      "[False False  True  True  True False  True  True]\n",
      "[ 30  40  50  90 100]\n",
      "[ 30  40  50  90 100]\n",
      "[30 40]\n"
     ]
    }
   ],
   "source": [
    "arr2 = np.array([10, 20, 30, 40, 50, 1, 90, 100])\n",
    "\n",
    "condition = arr2 > 20  # Create a boolean condition\n",
    "print(condition)  # Print the condition array\n",
    "# Use the condition to filter the array\n",
    "# This will return elements where the condition is True\n",
    "# For example, it will return elements greater than 20\n",
    "\n",
    "filtered_arr = arr2[condition]  # Filter the array based on the condition\n",
    "\n",
    "print(filtered_arr)\n",
    "\n",
    "print(arr2[arr2 > 20])  # Directly filter and print elements greater than 20\n",
    "\n",
    "print(arr2[(arr2 > 20) & (arr2 < 45)])  # Filter elements greater than 20 and less than 45"
   ]
  },
  {
   "cell_type": "markdown",
   "id": "bbe84741",
   "metadata": {},
   "source": [
    "your given the following array representing to the body tempreture (celsius) of five petions or theree times (morning, afternoon, evening)\n",
    "\n",
    "             morning   afternoon  evening\n",
    "pation 1        31         30       28\n",
    "pation 2        26         29       32\n",
    "pation 3        26         24       37\n",
    "pation 4        31         34       35\n",
    "pation 5        28         31       30\n",
    "\n",
    "identify and extract all tempercure reading grater than tha daily avarage tempreture using boolenan indexing"
   ]
  },
  {
   "cell_type": "code",
   "execution_count": 16,
   "id": "f9d7064c",
   "metadata": {},
   "outputs": [
    {
     "name": "stdout",
     "output_type": "stream",
     "text": [
      "[31 32 37 31 34 35 31]\n"
     ]
    }
   ],
   "source": [
    "import numpy as np\n",
    "\n",
    "temprature = np.array([[31, 30, 28],\n",
    "                       [26, 29, 32],\n",
    "                       [26, 24, 37],\n",
    "                       [31, 34, 35],\n",
    "                       [28, 31, 30]])\n",
    "\n",
    "avarage_temp = np.mean(temprature)  \n",
    "\n",
    "print(temprature[temprature > avarage_temp])"
   ]
  },
  {
   "cell_type": "code",
   "execution_count": 9,
   "id": "8d91d2eb",
   "metadata": {},
   "outputs": [
    {
     "name": "stdout",
     "output_type": "stream",
     "text": [
      "[[0. 0. 0. 0.]\n",
      " [0. 0. 0. 0.]\n",
      " [0. 0. 0. 0.]]\n",
      "[[1. 1. 1.]\n",
      " [1. 1. 1.]]\n",
      "[[7 7]\n",
      " [7 7]]\n"
     ]
    }
   ],
   "source": [
    "print(np.zeros((3, 4)))  # Create a 3x4 array filled with zeros\n",
    "print(np.ones((2, 3)))   # Create a 2x3 array filled with ones\n",
    "print(np.full((2, 2), 7))  # Create a 2x2 array filled with the value 7"
   ]
  },
  {
   "cell_type": "code",
   "execution_count": null,
   "id": "af415bb5",
   "metadata": {},
   "outputs": [
    {
     "name": "stdout",
     "output_type": "stream",
     "text": [
      "[[1 2 3]\n",
      " [1 2 3]]\n"
     ]
    }
   ],
   "source": [
    "# Create a 2x3 array filled with a 1,2,3\n",
    "print(np.full((2,3),[1,2,3])) "
   ]
  },
  {
   "cell_type": "code",
   "execution_count": 23,
   "id": "68159669",
   "metadata": {},
   "outputs": [
    {
     "name": "stdout",
     "output_type": "stream",
     "text": [
      "[[4.9e-324 9.9e-324 1.5e-323]\n",
      " [4.9e-324 9.9e-324 1.5e-323]]\n"
     ]
    }
   ],
   "source": [
    "print(np.empty((2, 3)))  # Create an empty 2x3 array"
   ]
  },
  {
   "cell_type": "code",
   "execution_count": null,
   "id": "75358dff",
   "metadata": {},
   "outputs": [],
   "source": []
  }
 ],
 "metadata": {
  "kernelspec": {
   "display_name": "Python 3",
   "language": "python",
   "name": "python3"
  },
  "language_info": {
   "codemirror_mode": {
    "name": "ipython",
    "version": 3
   },
   "file_extension": ".py",
   "mimetype": "text/x-python",
   "name": "python",
   "nbconvert_exporter": "python",
   "pygments_lexer": "ipython3",
   "version": "3.13.3"
  }
 },
 "nbformat": 4,
 "nbformat_minor": 5
}
