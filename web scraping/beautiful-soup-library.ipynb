{
 "cells": [
  {
   "cell_type": "code",
   "execution_count": 2,
   "id": "d65fda61",
   "metadata": {},
   "outputs": [],
   "source": [
    "from bs4 import BeautifulSoup"
   ]
  },
  {
   "cell_type": "code",
   "execution_count": 6,
   "id": "7969fe78",
   "metadata": {},
   "outputs": [
    {
     "name": "stdout",
     "output_type": "stream",
     "text": [
      "The Dormouse's story\n",
      "<p class=\"title\"><b>The Dormouse's story</b></p>\n",
      "<a href='http://example.com/elsie\" class=' id=\"link1\" sister\"=\"\">Elsie</a>\n",
      "<p class=\"title\"><b>The Dormouse's story</b></p>\n",
      "[<p class=\"title\"><b>The Dormouse's story</b></p>, <p class=\"story\">Once upon a time there were three little sisters; and their names were\n",
      "<a href='http://example.com/elsie\" class=' id=\"link1\" sister\"=\"\">Elsie</a>,\n",
      "<a href='http://example.com/lacie\" class=' id=\"link2\" sister\"=\"\">Lacie</a> and\n",
      "<a href='http://example.com/tillie\" class=' id=\"link3\" sister\"=\"\">Tillie</a>;\n",
      "and they lived at the bottom of a well.</p>, <p class=\"story\">...</p>]\n"
     ]
    }
   ],
   "source": [
    "from bs4 import BeautifulSoup\n",
    "\n",
    "html_doc = \"\"\"<html><head><title>The Dormouse's story</title></head>\n",
    "<body>\n",
    "<p class=\"title\"><b>The Dormouse's story</b></p>\n",
    "<p class=\"story\">Once upon a time there were three little sisters; and their names were\n",
    "<a href=\"http://example.com/elsie&quot; class=\"sister\" id=\"link1\">Elsie</a>,\n",
    "<a href=\"http://example.com/lacie&quot; class=\"sister\" id=\"link2\">Lacie</a> and\n",
    "<a href=\"http://example.com/tillie&quot; class=\"sister\" id=\"link3\">Tillie</a>;\n",
    "and they lived at the bottom of a well.</p>\n",
    "<p class=\"story\">...</p>\n",
    "\"\"\"\n",
    "\n",
    "soup = BeautifulSoup(html_doc, 'html.parser')\n",
    "print(soup.title.text)\n",
    "print(soup.p)\n",
    "print(soup.a)\n",
    "\n",
    "p_tag = soup.find('p') # returns the first <p> tag\n",
    "print(p_tag)\n",
    "\n",
    "p_tags = soup.find_all('p') # returns all <p> tags\n",
    "print(p_tags)\n"
   ]
  },
  {
   "cell_type": "code",
   "execution_count": null,
   "id": "3d8a2838",
   "metadata": {},
   "outputs": [
    {
     "name": "stdout",
     "output_type": "stream",
     "text": [
      "success\n",
      "Example Domain\n"
     ]
    }
   ],
   "source": [
    "import requests\n",
    "from bs4 import BeautifulSoup\n",
    "\n",
    "url = 'http://www.example.com'\n",
    "response = requests.get(url)\n",
    "\n",
    "if response.status_code == 200:\n",
    "    print('success')\n",
    "    #print(response.text)\n",
    "\n",
    "    html = response.text\n",
    "    soup = BeautifulSoup(html, 'html.parser')\n",
    "\n",
    "    heading = soup.h1.text\n",
    "    \n",
    "    if(heading):\n",
    "        print(heading)\n",
    "    else:\n",
    "        print('No heading found')\n",
    "\n",
    "else:\n",
    "    print('failed to retrieve data. Status code:', response.status_code)\n",
    "\n"
   ]
  },
  {
   "cell_type": "code",
   "execution_count": 28,
   "id": "4905a16a",
   "metadata": {},
   "outputs": [
    {
     "name": "stdout",
     "output_type": "stream",
     "text": [
      "{'latitude': 37.78929, 'longitude': -122.42198, 'generationtime_ms': 0.02956390380859375, 'utc_offset_seconds': 0, 'timezone': 'GMT', 'timezone_abbreviation': 'GMT', 'elevation': 23.0, 'current_units': {'time': 'iso8601', 'interval': 'seconds', 'temperature_2m': '°C', 'windspeed_10m': 'km/h'}, 'current': {'time': '2025-07-23T09:15', 'interval': 900, 'temperature_2m': 13.0, 'windspeed_10m': 9.0}}\n"
     ]
    }
   ],
   "source": [
    "import requests\n",
    "from bs4 import BeautifulSoup\n",
    "\n",
    "url = 'https://api.open-meteo.com/v1/forecast'\n",
    "data = {\n",
    "    'latitude': 37.8267,\n",
    "    'longitude': -122.4233,\n",
    "    'current': \"temperature_2m,windspeed_10m \"\n",
    "    \n",
    "}\n",
    "response = requests.get(url, params=data)\n",
    "if response.status_code == 200:\n",
    "   content_type = response.headers['Content-Type']\n",
    "   if 'application/json' in content_type:\n",
    "       data = response.json()\n",
    "       print(data)\n",
    "   else:\n",
    "       print(\"Content type is not application/json\")\n",
    "\n",
    "else:\n",
    "    print('failed to retrieve data. Status code:', response.status_code)\n",
    "\n"
   ]
  },
  {
   "cell_type": "code",
   "execution_count": 36,
   "id": "1fc4f715",
   "metadata": {},
   "outputs": [
    {
     "data": {
      "text/plain": [
       "{'windspeed_10m': 7.4, 'temperature_2m': 12.9}"
      ]
     },
     "execution_count": 36,
     "metadata": {},
     "output_type": "execute_result"
    }
   ],
   "source": [
    "def fetch_weather(latitude,longitude,current_info):\n",
    "    url = 'https://api.open-meteo.com/v1/forecast'\n",
    "    data = {\n",
    "        'latitude': latitude,\n",
    "        'longitude': longitude,\n",
    "        'current': current_info\n",
    "        \n",
    "    }\n",
    "    response = requests.get(url, params=data)\n",
    "    if response.status_code == 200:\n",
    "        content_type = response.headers['Content-Type']\n",
    "        if 'application/json' in content_type:\n",
    "            data = response.json()\n",
    "            return passing_weather_data(data)\n",
    "        else:\n",
    "            print(\"Content type is not application/json\")\n",
    "\n",
    "    else:\n",
    "        print('failed to retrieve data. Status code:', response.status_code)\n",
    "\n",
    "    return None\n",
    "\n",
    "def passing_weather_data(data):\n",
    "\n",
    "    if(data is not None or 'current' in data):\n",
    "            \n",
    "        needed_result = {\n",
    "                'windspeed_10m':data['current']['windspeed_10m'],\n",
    "                'temperature_2m':data['current']['temperature_2m']\n",
    "                }\n",
    "        return needed_result\n",
    "\n",
    "    else:\n",
    "        return None\n",
    "    \n",
    "    \n",
    "\n",
    "fetch_weather(37.8267,-122.4233,\"temperature_2m,windspeed_10m\")"
   ]
  }
 ],
 "metadata": {
  "kernelspec": {
   "display_name": "Python 3",
   "language": "python",
   "name": "python3"
  },
  "language_info": {
   "codemirror_mode": {
    "name": "ipython",
    "version": 3
   },
   "file_extension": ".py",
   "mimetype": "text/x-python",
   "name": "python",
   "nbconvert_exporter": "python",
   "pygments_lexer": "ipython3",
   "version": "3.13.3"
  }
 },
 "nbformat": 4,
 "nbformat_minor": 5
}
