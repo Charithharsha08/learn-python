{
 "cells": [
  {
   "cell_type": "code",
   "execution_count": null,
   "id": "4d24810b",
   "metadata": {},
   "outputs": [
    {
     "name": "stdout",
     "output_type": "stream",
     "text": [
      "<class 'dict'>\n",
      "{'name': 'sugar', 'weight': 130.85, 'available': True}\n",
      "130.85\n",
      "sugar\n",
      "{'available': True, 'color': 'brown'}\n",
      "{'available': True}\n",
      "{}\n"
     ]
    }
   ],
   "source": [
    "# create dictionary\n",
    "this_dict ={\n",
    "    \"name\" : \"sugar\",\n",
    "    \"weight\" : \"1Kg\",\n",
    "    \"weight\" : 130.85,\n",
    "    \"available\" : True\n",
    "\n",
    "}\n",
    "\n",
    "print(type(this_dict))\n",
    "print(this_dict)\n",
    "\n",
    "# access dictionary\n",
    "print(this_dict[\"weight\"])\n",
    "print(this_dict.get(\"name\"))\n",
    "\n",
    "# add new item to dictionary\n",
    "this_dict[\"color\"] = \"brown\"\n",
    "\n",
    "# remove item from dictionary\n",
    "del this_dict[\"weight\"]\n",
    "\n",
    "# remove value from dictionary\n",
    "this_dict.pop(\"name\")\n",
    "\n",
    "print(this_dict)\n",
    "\n",
    "# remove last item from dictionary\n",
    "this_dict.popitem()\n",
    "\n",
    "\n",
    "# update dictionary\n",
    "#this_dict.update({\"color\" : \"green\"})\n",
    "\n",
    "#delete dictionary\n",
    "#del this_dict\n",
    "\n",
    "print(this_dict)\n",
    "\n",
    "#clear dictionary\n",
    "this_dict.clear()\n",
    "\n",
    "\n",
    "\n",
    "print(this_dict)"
   ]
  },
  {
   "cell_type": "code",
   "execution_count": 22,
   "id": "bdb987ed",
   "metadata": {},
   "outputs": [
    {
     "name": "stdout",
     "output_type": "stream",
     "text": [
      "{'name': 'sugar', 'weight': 130.85, 'available': True}\n",
      "or {'name': 'sugar', 'weight': 50, 'available': True}\n",
      "cp {'name': 'sugar', 'weight': 130.85, 'available': True}\n"
     ]
    }
   ],
   "source": [
    "this_dict ={\n",
    "    \"name\" : \"sugar\",\n",
    "    \"weight\" : \"1Kg\",\n",
    "    \"weight\" : 130.85,\n",
    "    \"available\" : True\n",
    "\n",
    "}\n",
    "\n",
    "\n",
    "#copy dictionary\n",
    "new_dict = this_dict.copy()\n",
    "print(new_dict)\n",
    "\n",
    "this_dict[\"weight\"] = 50\n",
    "print(\"or\",this_dict)\n",
    "print(\"cp\",new_dict)\n"
   ]
  }
 ],
 "metadata": {
  "kernelspec": {
   "display_name": "Python 3",
   "language": "python",
   "name": "python3"
  },
  "language_info": {
   "codemirror_mode": {
    "name": "ipython",
    "version": 3
   },
   "file_extension": ".py",
   "mimetype": "text/x-python",
   "name": "python",
   "nbconvert_exporter": "python",
   "pygments_lexer": "ipython3",
   "version": "3.13.3"
  }
 },
 "nbformat": 4,
 "nbformat_minor": 5
}
