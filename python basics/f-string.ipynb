{
 "cells": [
  {
   "cell_type": "code",
   "execution_count": null,
   "id": "97782942",
   "metadata": {},
   "outputs": [
    {
     "name": "stdout",
     "output_type": "stream",
     "text": [
      "my name is charith and my age is 23\n"
     ]
    }
   ],
   "source": [
    "# f-string \n",
    "# f-string is a new feature in python 3.6\n",
    "\n",
    "name = \"charith\"\n",
    "age = 23\n",
    "\n",
    "print(f\"my name is {name} and my age is {age}\")"
   ]
  }
 ],
 "metadata": {
  "kernelspec": {
   "display_name": "Python 3",
   "language": "python",
   "name": "python3"
  },
  "language_info": {
   "codemirror_mode": {
    "name": "ipython",
    "version": 3
   },
   "file_extension": ".py",
   "mimetype": "text/x-python",
   "name": "python",
   "nbconvert_exporter": "python",
   "pygments_lexer": "ipython3",
   "version": "3.13.3"
  }
 },
 "nbformat": 4,
 "nbformat_minor": 5
}
