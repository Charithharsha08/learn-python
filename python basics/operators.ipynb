{
 "cells": [
  {
   "cell_type": "code",
   "execution_count": null,
   "id": "78385d36",
   "metadata": {},
   "outputs": [
    {
     "name": "stdout",
     "output_type": "stream",
     "text": [
      "1: 10\n",
      "2: 4\n",
      "21\n",
      "2.3333333333333335\n",
      "2\n",
      "1\n",
      "343\n"
     ]
    }
   ],
   "source": [
    "#arithmatic operators\n",
    "\n",
    "x,y =7,3\n",
    "\n",
    "#multiplication\n",
    "print(\"1:\",x + y)\n",
    "\n",
    "#subtraction\n",
    "print(\"2:\",x - y)\n",
    "\n",
    "#division\n",
    "print(\"3:\",x * y)\n",
    "\n",
    "#floor division\n",
    "print(\"4:\",x / y)\n",
    "\n",
    "#exponent\n",
    "print(\"5:\",x // y)\n",
    "\n",
    "#mod\n",
    "print(\"6:\",x % y)\n",
    "\n",
    "#power\n",
    "print(\"7:\",x ** y)"
   ]
  },
  {
   "cell_type": "code",
   "execution_count": 6,
   "id": "3e722054",
   "metadata": {},
   "outputs": [
    {
     "name": "stdout",
     "output_type": "stream",
     "text": [
      "10\n",
      "7\n",
      "21\n",
      "7.0\n",
      "2.0\n",
      "2.0\n",
      "8.0\n"
     ]
    }
   ],
   "source": [
    "# assignment operators\n",
    "\n",
    "\n",
    "x = 7\n",
    "x += 3\n",
    "print(x)\n",
    "x -= 3\n",
    "print(x)\n",
    "x *= 3\n",
    "print(x)\n",
    "x /= 3\n",
    "print(x)\n",
    "x //= 3\n",
    "print(x)\n",
    "x %= 3\n",
    "print(x)\n",
    "x **= 3\n",
    "print(x)\n"
   ]
  },
  {
   "cell_type": "code",
   "execution_count": null,
   "id": "8a1d3805",
   "metadata": {},
   "outputs": [],
   "source": [
    "# comparison operators\n",
    "# returns true or false\n",
    "\n",
    "x,y = 7,3\n",
    "\n",
    "# equals to\n",
    "print(\"1:\",x == y)\n",
    "\n",
    "# not equals\n",
    "print(\"2:\",x != y)\n",
    "\n",
    "# greater\n",
    "print(\"3:\",x > y)\n",
    "\n",
    "# less\n",
    "print(\"4:\",x < y)\n",
    "\n",
    "# greater or equal\n",
    "print(\"5:\",x >= y)\n",
    "\n",
    "# less or equal\n",
    "print(\"6:\",x <= y)"
   ]
  },
  {
   "cell_type": "code",
   "execution_count": 4,
   "id": "34b4f7b1",
   "metadata": {},
   "outputs": [
    {
     "name": "stdout",
     "output_type": "stream",
     "text": [
      "1: True\n",
      "2: True\n",
      "3: False\n"
     ]
    }
   ],
   "source": [
    "# logical operators\n",
    "# returns true or false\n",
    "\n",
    "x,y = 7,3\n",
    "\n",
    "# and\n",
    "print(\"1:\", x > 1 and y > 1)\n",
    "\n",
    "# or\n",
    "print(\"2:\",x < 10 or y == 1)\n",
    "\n",
    "# not\n",
    "print(\"3:\",not x)\n",
    "\n"
   ]
  },
  {
   "cell_type": "code",
   "execution_count": 8,
   "id": "6d462893",
   "metadata": {},
   "outputs": [
    {
     "name": "stdout",
     "output_type": "stream",
     "text": [
      "False\n",
      "True\n",
      "True\n"
     ]
    }
   ],
   "source": [
    "# identity operators\n",
    "\n",
    "x,y = 5,6\n",
    "\n",
    "print( x is y)\n",
    "\n",
    "a = 5\n",
    "b = a\n",
    "\n",
    "print(a is b)\n",
    "\n",
    "c = 5\n",
    "d = 5\n",
    "\n",
    "print(c is d)"
   ]
  },
  {
   "cell_type": "code",
   "execution_count": 9,
   "id": "145cc8b4",
   "metadata": {},
   "outputs": [
    {
     "name": "stdout",
     "output_type": "stream",
     "text": [
      "False\n",
      "True\n"
     ]
    }
   ],
   "source": [
    "# membership operators\n",
    "\n",
    "x = \"hello world\"\n",
    "\n",
    "print(\"H\" in x)\n",
    "\n",
    "print(\"H\" not in x)"
   ]
  },
  {
   "cell_type": "code",
   "execution_count": 11,
   "id": "69e87209",
   "metadata": {},
   "outputs": [
    {
     "name": "stdout",
     "output_type": "stream",
     "text": [
      "0\n",
      "15\n",
      "15\n",
      "-6\n",
      "20\n",
      "1\n"
     ]
    }
   ],
   "source": [
    "# bitwise operators\n",
    "\n",
    "x = 5\n",
    "y = 10\n",
    "\n",
    "print(x & y)\n",
    "print(x | y)\n",
    "print(x ^ y)\n",
    "print(~x)\n",
    "print(x << 2)\n",
    "print(x >> 2)"
   ]
  },
  {
   "cell_type": "code",
   "execution_count": null,
   "id": "cf0e56d8",
   "metadata": {},
   "outputs": [],
   "source": []
  }
 ],
 "metadata": {
  "kernelspec": {
   "display_name": "Python 3",
   "language": "python",
   "name": "python3"
  },
  "language_info": {
   "codemirror_mode": {
    "name": "ipython",
    "version": 3
   },
   "file_extension": ".py",
   "mimetype": "text/x-python",
   "name": "python",
   "nbconvert_exporter": "python",
   "pygments_lexer": "ipython3",
   "version": "3.13.3"
  }
 },
 "nbformat": 4,
 "nbformat_minor": 5
}
