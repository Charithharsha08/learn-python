{
 "cells": [
  {
   "cell_type": "code",
   "execution_count": 1,
   "id": "6f046e3c",
   "metadata": {},
   "outputs": [
    {
     "name": "stdout",
     "output_type": "stream",
     "text": [
      "15\n"
     ]
    }
   ],
   "source": [
    "#position argument \n",
    "\n",
    "def add_number(a,b):\n",
    "    return a + b\n",
    "\n",
    "print(add_number(7,8))"
   ]
  },
  {
   "cell_type": "code",
   "execution_count": 2,
   "id": "5d603901",
   "metadata": {},
   "outputs": [
    {
     "name": "stdout",
     "output_type": "stream",
     "text": [
      "15\n"
     ]
    }
   ],
   "source": [
    "# default argument\n",
    "\n",
    "def add_number(a,b = 8):\n",
    "    return a + b\n",
    "\n",
    "print(add_number(7))\n"
   ]
  },
  {
   "cell_type": "code",
   "execution_count": 4,
   "id": "c8b74448",
   "metadata": {},
   "outputs": [
    {
     "name": "stdout",
     "output_type": "stream",
     "text": [
      "10000\n"
     ]
    }
   ],
   "source": [
    "#write a function that calculate and  returns the value of a number race to a sertain power. the function should accept two arguments : the number and exponent. if the exponent is nt provided it should calculate squre of the number\n",
    "\n",
    "def sertain_power_number(num,exponent = 2):\n",
    "    return num ** exponent\n",
    "\n",
    "print(sertain_power_number(10,4))"
   ]
  },
  {
   "cell_type": "code",
   "execution_count": 5,
   "id": "fd81ff03",
   "metadata": {},
   "outputs": [
    {
     "name": "stdout",
     "output_type": "stream",
     "text": [
      "a 15\n",
      "b 10\n"
     ]
    }
   ],
   "source": [
    "# keyword argument\n",
    "\n",
    "def display_number(a,b):\n",
    "    print(\"a\",a)\n",
    "    print(\"b\",b)\n",
    "\n",
    "display_number(b = 10 , a = 15)"
   ]
  },
  {
   "cell_type": "code",
   "execution_count": 15,
   "id": "1a03b965",
   "metadata": {},
   "outputs": [
    {
     "name": "stdout",
     "output_type": "stream",
     "text": [
      "40800.0\n"
     ]
    }
   ],
   "source": [
    "# write a fuction that calculate and employee net salary the function shuold accept base salary bonus (defaul 0) and tax tax rate(default 10%) the net salary is calculate by adding the bonus to the base salary and substracting the tax \n",
    "# demostrate diffrent way of calling this function using position and keyword argument\n",
    "\n",
    "\n",
    "def calculate_salary(basic_salary, bonus = 0, tax = 0.1):\n",
    "    total = basic_salary + bonus \n",
    "    net_tot = total - total * tax\n",
    "    return net_tot\n",
    "\n",
    "print(calculate_salary(basic_salary=50000,bonus=1000,tax = 0.2))\n",
    "\n",
    "\n",
    "\n"
   ]
  },
  {
   "cell_type": "code",
   "execution_count": 18,
   "id": "5336ec70",
   "metadata": {},
   "outputs": [
    {
     "name": "stdout",
     "output_type": "stream",
     "text": [
      "(1, 2, 3, 4, 5, 6, 7, 8)\n",
      "<class 'tuple'>\n",
      "1\n",
      "2\n",
      "3\n",
      "4\n",
      "5\n",
      "6\n",
      "7\n",
      "8\n"
     ]
    }
   ],
   "source": [
    "# Arbitary Arguments\n",
    "\n",
    "# Arbitary position arguments\n",
    "\n",
    "def arbitiary_position_argument(*args):\n",
    "    print(args)\n",
    "    print(type(args))\n",
    "\n",
    "    for i in args:\n",
    "        print(i)\n",
    "\n",
    "arbitiary_position_argument(1,2,3,4,5,6,7,8)"
   ]
  },
  {
   "cell_type": "code",
   "execution_count": 20,
   "id": "a02f21e5",
   "metadata": {},
   "outputs": [
    {
     "name": "stdout",
     "output_type": "stream",
     "text": [
      "24\n"
     ]
    }
   ],
   "source": [
    "# write a function multipy all that accept any number of numbers and return their products if no numbers are provided return one\n",
    "\n",
    "def multipy_all(*args):\n",
    "    count = 1\n",
    "\n",
    "    for i in args:\n",
    "        count *= i\n",
    "\n",
    "    return count\n",
    "\n",
    "\n",
    "print(multipy_all(1,2,3,4))\n",
    "\n"
   ]
  },
  {
   "cell_type": "code",
   "execution_count": 23,
   "id": "a777fa5e",
   "metadata": {},
   "outputs": [
    {
     "name": "stdout",
     "output_type": "stream",
     "text": [
      "name\n",
      "age\n",
      "city\n",
      "charith\n",
      "23\n",
      "galle\n",
      "key name value charith\n",
      "key age value 23\n",
      "key city value galle\n"
     ]
    }
   ],
   "source": [
    "# arbitrary keyword argument (**kwars)\n",
    "\n",
    "dict = {\n",
    "    \"name\" : \"charith\",\n",
    "    \"age\" : 23,\n",
    "    \"city\" : \"galle\"\n",
    "}\n",
    "\n",
    "# access key in dict\n",
    "for key in dict:\n",
    "    print(key)\n",
    "\n",
    "# access value in dict\n",
    "for value in dict.values():\n",
    "    print(value)\n",
    "\n",
    "# access item (key and value) in dict\n",
    "for key,value in dict.items():\n",
    "    print(\"key\",key,\"value\",value)"
   ]
  },
  {
   "cell_type": "code",
   "execution_count": 27,
   "id": "80046353",
   "metadata": {},
   "outputs": [
    {
     "name": "stdout",
     "output_type": "stream",
     "text": [
      "{'name': 'charith', 'age': 23, 'city': 'colombo'}\n",
      "<class 'dict'>\n",
      "key :  name value :  charith\n",
      "key :  age value :  23\n",
      "key :  city value :  colombo\n"
     ]
    }
   ],
   "source": [
    "# arbitrary keyword argument (**kwars)\n",
    "\n",
    "def arbitrary_keyword_args(**kwrgs):\n",
    "    print(kwrgs)\n",
    "    print(type(kwrgs))\n",
    "\n",
    "    for key,value in kwrgs.items():\n",
    "        print(\"key : \",key,\"value : \",value)\n",
    "\n",
    "arbitrary_keyword_args(name=\"charith\",age=23,city=\"colombo\")"
   ]
  },
  {
   "cell_type": "code",
   "execution_count": 35,
   "id": "7f2da0e6",
   "metadata": {},
   "outputs": [
    {
     "data": {
      "text/plain": [
       "{'s01': 'charith',\n",
       " 's02': 'harsha',\n",
       " 's03': 'jayashan',\n",
       " 's04': 'nimal',\n",
       " 's05': 'kamal'}"
      ]
     },
     "execution_count": 35,
     "metadata": {},
     "output_type": "execute_result"
    }
   ],
   "source": [
    "# you are develping a student management system\n",
    "\n",
    "# write a funtion add student with accpet any number of argument where keys are students id's and values are student name\n",
    "# the function should store old students in to dictonary\n",
    "# write another function display students which accept the dictenory prin and all student id and names in a nead format\n",
    "# demostraite your function by adding at least 5 student using keyword argument and display them \n",
    "\n",
    "\n",
    "def add_student (**kwrgs):\n",
    "    student_dict = {}\n",
    "\n",
    "    for key,value in kwrgs.items():\n",
    "        student_dict[key] = value\n",
    "\n",
    "    return student_dict\n",
    "\n",
    "\n",
    "def display_student(student_dict):\n",
    "    print(student_dict)\n",
    "\n",
    "add_student(s01=\"charith\",s02=\"harsha\",s03=\"jayashan\",s04=\"nimal\",s05=\"kamal\")\n",
    "\n",
    "\n",
    "\n"
   ]
  }
 ],
 "metadata": {
  "kernelspec": {
   "display_name": "Python 3",
   "language": "python",
   "name": "python3"
  },
  "language_info": {
   "codemirror_mode": {
    "name": "ipython",
    "version": 3
   },
   "file_extension": ".py",
   "mimetype": "text/x-python",
   "name": "python",
   "nbconvert_exporter": "python",
   "pygments_lexer": "ipython3",
   "version": "3.13.3"
  }
 },
 "nbformat": 4,
 "nbformat_minor": 5
}
